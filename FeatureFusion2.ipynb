{
  "nbformat": 4,
  "nbformat_minor": 0,
  "metadata": {
    "colab": {
      "name": "FeatureFusion.ipynb",
      "provenance": [],
      "collapsed_sections": [],
      "toc_visible": true,
      "authorship_tag": "ABX9TyPHvBz9Zhljvz7HDs0o8Bg7",
      "include_colab_link": true
    },
    "kernelspec": {
      "name": "python3",
      "display_name": "Python 3"
    },
    "language_info": {
      "name": "python"
    },
    "accelerator": "GPU"
  },
  "cells": [
    {
      "cell_type": "markdown",
      "metadata": {
        "id": "view-in-github",
        "colab_type": "text"
      },
      "source": [
        "<a href=\"https://colab.research.google.com/github/oopstayuno/ML-Project/blob/main/FeatureFusion2.ipynb\" target=\"_parent\"><img src=\"https://colab.research.google.com/assets/colab-badge.svg\" alt=\"Open In Colab\"/></a>"
      ]
    },
    {
      "cell_type": "code",
      "metadata": {
        "colab": {
          "base_uri": "https://localhost:8080/"
        },
        "id": "gn9Un1YX7njG",
        "outputId": "5527242e-4d06-46dc-fb7f-28a4c56166fe"
      },
      "source": [
        "from google.colab import drive\n",
        "drive.mount('/content/drive')"
      ],
      "execution_count": 1,
      "outputs": [
        {
          "output_type": "stream",
          "text": [
            "Mounted at /content/drive\n"
          ],
          "name": "stdout"
        }
      ]
    },
    {
      "cell_type": "code",
      "metadata": {
        "id": "7MlyLYbI8w2u"
      },
      "source": [
        "import os\n",
        "import cv2\n",
        "import tensorflow as tf\n",
        "import numpy as np\n",
        "\n",
        "from tqdm import tqdm\n",
        "from numpy import array\n",
        "from matplotlib import pyplot as plt\n",
        "from tensorflow import keras\n",
        "\n",
        "from tensorflow.keras import layers, models\n",
        "from tensorflow.keras.layers import Input, Conv2D, MaxPool2D, concatenate, Dense, GlobalAveragePooling2D, Dropout\n",
        "from keras.utils import to_categorical\n",
        "from keras.preprocessing.image import ImageDataGenerator\n",
        "from sklearn.model_selection import train_test_split\n",
        "from sklearn.metrics import precision_score\n",
        "from sklearn.metrics import recall_score"
      ],
      "execution_count": 2,
      "outputs": []
    },
    {
      "cell_type": "code",
      "metadata": {
        "id": "iocR8wHNF4OD"
      },
      "source": [
        "from sklearn.metrics import accuracy_score\n",
        "from sklearn.metrics import confusion_matrix\n",
        "import seaborn as sn\n",
        "import pandas as pd\n",
        "import matplotlib.pyplot as plt\n",
        "\n",
        "from sklearn.metrics import f1_score\n",
        "from sklearn import svm, datasets\n",
        "from sklearn.metrics import roc_curve, auc\n",
        "from sklearn.model_selection import train_test_split\n",
        "from sklearn.preprocessing import label_binarize\n",
        "from sklearn.multiclass import OneVsRestClassifier\n",
        "from scipy import interp\n",
        "from sklearn.metrics import roc_auc_score\n",
        "from keras.callbacks import ModelCheckpoint"
      ],
      "execution_count": 3,
      "outputs": []
    },
    {
      "cell_type": "code",
      "metadata": {
        "colab": {
          "base_uri": "https://localhost:8080/"
        },
        "id": "rgDQ-b2x9OId",
        "outputId": "6d51cb62-9f9f-42f8-fe04-0106465a6f29"
      },
      "source": [
        "os.listdir('drive/My Drive/ML Project NITT/')"
      ],
      "execution_count": 4,
      "outputs": [
        {
          "output_type": "execute_result",
          "data": {
            "text/plain": [
              "['NB_Numodril.ipynb',\n",
              " 'Dataset.zip',\n",
              " 'Untitled1.ipynb',\n",
              " 'pose_iter_102000.caffemodel',\n",
              " 'pose_deploy.prototxt',\n",
              " 'openpose_hand_keras.h5',\n",
              " 'Untitled2.ipynb',\n",
              " 'finalModl.h5',\n",
              " 'Untitled0.ipynb',\n",
              " 'FinalMLProject.ipynb',\n",
              " 'template (1).docx',\n",
              " 'plot_roc_crossval.ipynb',\n",
              " 'VGG16.ipynb',\n",
              " 'FeatureFusion.ipynb']"
            ]
          },
          "metadata": {
            "tags": []
          },
          "execution_count": 4
        }
      ]
    },
    {
      "cell_type": "code",
      "metadata": {
        "id": "Wli8Mk6D9Phf"
      },
      "source": [
        "!unzip \"drive/My Drive/ML Project NITT/Dataset.zip\" -d \"/content\"> /dev/null"
      ],
      "execution_count": 5,
      "outputs": []
    },
    {
      "cell_type": "code",
      "metadata": {
        "id": "_1BFIQbj9RHi"
      },
      "source": [
        "datasetFolderPath = '/content/asl_alphabet_train/asl_alphabet_train/'"
      ],
      "execution_count": 6,
      "outputs": []
    },
    {
      "cell_type": "code",
      "metadata": {
        "id": "O8b666-kBTFX"
      },
      "source": [
        "def load_images(folderPath):\n",
        "  images = []\n",
        "  imageLabel = []\n",
        "\n",
        "  classLabels = []\n",
        "\n",
        "  # using sorted to organise the foldernames in alphabetic order\n",
        "  folderList = list(sorted(os.listdir(folderPath)))\n",
        "  # print(folderList)\n",
        "  for folderName in tqdm(folderList):\n",
        "    k = 0\n",
        "    if '.DS_Store' not in folderName:\n",
        "      classLabels.append(folderName)\n",
        "      subFolder = os.path.join(folderPath, folderName)\n",
        "      for filename in (list(sorted(os.listdir(subFolder)))):\n",
        "        if '.DS_Store' not in filename:\n",
        "          img = cv2.imread(os.path.join(subFolder,filename))\n",
        "          # img = img/255\n",
        "          if img is not None:\n",
        "              images.append(img)\n",
        "              imageLabel.append(folderName)\n",
        "              k = k + 1;\n",
        "              \n",
        "          if k == 50:\n",
        "            break\n",
        "          \n",
        "\n",
        "  return images, imageLabel, classLabels"
      ],
      "execution_count": 7,
      "outputs": []
    },
    {
      "cell_type": "code",
      "metadata": {
        "colab": {
          "base_uri": "https://localhost:8080/"
        },
        "id": "o7T0KFiTBgll",
        "outputId": "b964452c-805a-4a2d-bac4-d6a17b7515b7"
      },
      "source": [
        "images, imageLabel, classLabels = load_images(datasetFolderPath)"
      ],
      "execution_count": 8,
      "outputs": [
        {
          "output_type": "stream",
          "text": [
            "100%|██████████| 29/29 [00:01<00:00, 26.78it/s]\n"
          ],
          "name": "stderr"
        }
      ]
    },
    {
      "cell_type": "code",
      "metadata": {
        "colab": {
          "base_uri": "https://localhost:8080/",
          "height": 298
        },
        "id": "MaG5VCPyBh2b",
        "outputId": "120e85db-e988-4cf1-fe3f-a067b8a6efad"
      },
      "source": [
        "plt.imshow(images[0])\n",
        "plt.title(\"This is: \" + imageLabel[0])"
      ],
      "execution_count": 9,
      "outputs": [
        {
          "output_type": "execute_result",
          "data": {
            "text/plain": [
              "Text(0.5, 1.0, 'This is: A')"
            ]
          },
          "metadata": {
            "tags": []
          },
          "execution_count": 9
        },
        {
          "output_type": "display_data",
          "data": {
            "image/png": "[encoded data removed]",
            "text/plain": [
              "<Figure size 432x288 with 1 Axes>"
            ]
          },
          "metadata": {
            "tags": [],
            "needs_background": "light"
          }
        }
      ]
    },
    {
      "cell_type": "code",
      "metadata": {
        "colab": {
          "base_uri": "https://localhost:8080/"
        },
        "id": "KcHIiKwKBoFU",
        "outputId": "b11b41be-81c3-4df2-9a94-05bca07d6e25"
      },
      "source": [
        "# class Labels:\n",
        "print(\"This are the class labels: \", classLabels)"
      ],
      "execution_count": 10,
      "outputs": [
        {
          "output_type": "stream",
          "text": [
            "This are the class labels:  ['A', 'B', 'C', 'D', 'E', 'F', 'G', 'H', 'I', 'J', 'K', 'L', 'M', 'N', 'O', 'P', 'Q', 'R', 'S', 'T', 'U', 'V', 'W', 'X', 'Y', 'Z', 'del', 'nothing', 'space']\n"
          ],
          "name": "stdout"
        }
      ]
    },
    {
      "cell_type": "code",
      "metadata": {
        "id": "f9Cwc9rcBpW0"
      },
      "source": [
        "# split train and test images and also the class labels accordingly\n",
        "\n",
        "X_train, X_test, y_train, y_test = train_test_split(images, imageLabel)"
      ],
      "execution_count": 11,
      "outputs": []
    },
    {
      "cell_type": "code",
      "metadata": {
        "colab": {
          "base_uri": "https://localhost:8080/",
          "height": 298
        },
        "id": "sbbHpP5ZB6wD",
        "outputId": "84d0fc4f-abf3-493d-d6fa-a77015d26e52"
      },
      "source": [
        "plt.imshow(X_train[0])\n",
        "plt.title(\"This is: \" + y_train[0])"
      ],
      "execution_count": 12,
      "outputs": [
        {
          "output_type": "execute_result",
          "data": {
            "text/plain": [
              "Text(0.5, 1.0, 'This is: Q')"
            ]
          },
          "metadata": {
            "tags": []
          },
          "execution_count": 12
        },
        {
          "output_type": "display_data",
          "data": {
            "image/png": "[encoded data removed]",
            "text/plain": [
              "<Figure size 432x288 with 1 Axes>"
            ]
          },
          "metadata": {
            "tags": [],
            "needs_background": "light"
          }
        }
      ]
    },
    {
      "cell_type": "code",
      "metadata": {
        "colab": {
          "base_uri": "https://localhost:8080/"
        },
        "id": "sTVxZWfQB8Z1",
        "outputId": "36bf0b6e-3ab9-4996-9b7a-0cccf73017f4"
      },
      "source": [
        "# will normalize the images i.e., divide all the image pixel by 255\n",
        "# will loop over all and divide the images / 255\n",
        "\n",
        "for index in tqdm(range(0, len(X_train))):\n",
        "  X_train[index] = X_train[index] / 255\n",
        "\n",
        "for index in tqdm(range(0, len(X_test))):\n",
        "  X_test[index] = X_test[index] / 255\n"
      ],
      "execution_count": 13,
      "outputs": [
        {
          "output_type": "stream",
          "text": [
            "100%|██████████| 1087/1087 [00:00<00:00, 1744.63it/s]\n",
            "100%|██████████| 363/363 [00:00<00:00, 1762.36it/s]\n"
          ],
          "name": "stderr"
        }
      ]
    },
    {
      "cell_type": "markdown",
      "metadata": {
        "id": "c3OYO6hOCChg"
      },
      "source": [
        "## Design the Model: VGG16\n",
        "\n",
        "Using Transfer Learning of Imagenet weights (VGG16 has proved to be 92.7% accuracte with Imagenet dataset)\n",
        "\n"
      ]
    },
    {
      "cell_type": "code",
      "metadata": {
        "id": "Fodk5aVuB90l",
        "colab": {
          "base_uri": "https://localhost:8080/"
        },
        "outputId": "95f149d2-ffc9-4573-fe1d-707a49beda09"
      },
      "source": [
        "nos_of_Classes = len(classLabels)\n",
        "\n",
        "image_input = tf.keras.Input(shape=(200, 200, 3))\n",
        "\n",
        "vggModel = tf.keras.applications.VGG16(\n",
        "    include_top=False,\n",
        "    weights=\"imagenet\",\n",
        "    input_tensor=image_input\n",
        ")"
      ],
      "execution_count": 14,
      "outputs": [
        {
          "output_type": "stream",
          "text": [
            "Downloading data from https://storage.googleapis.com/tensorflow/keras-applications/vgg16/vgg16_weights_tf_dim_ordering_tf_kernels_notop.h5\n",
            "58892288/58889256 [==============================] - 0s 0us/step\n"
          ],
          "name": "stdout"
        }
      ]
    },
    {
      "cell_type": "code",
      "metadata": {
        "colab": {
          "base_uri": "https://localhost:8080/"
        },
        "id": "xgxXrIxVCBz1",
        "outputId": "d6bb8f49-f6f4-4b18-c22b-9d5a11a1ca1d"
      },
      "source": [
        "vggModel.summary()"
      ],
      "execution_count": 15,
      "outputs": [
        {
          "output_type": "stream",
          "text": [
            "Model: \"vgg16\"\n",
            "_________________________________________________________________\n",
            "Layer (type)                 Output Shape              Param #   \n",
            "=================================================================\n",
            "input_1 (InputLayer)         [(None, 200, 200, 3)]     0         \n",
            "_________________________________________________________________\n",
            "block1_conv1 (Conv2D)        (None, 200, 200, 64)      1792      \n",
            "_________________________________________________________________\n",
            "block1_conv2 (Conv2D)        (None, 200, 200, 64)      36928     \n",
            "_________________________________________________________________\n",
            "block1_pool (MaxPooling2D)   (None, 100, 100, 64)      0         \n",
            "_________________________________________________________________\n",
            "block2_conv1 (Conv2D)        (None, 100, 100, 128)     73856     \n",
            "_________________________________________________________________\n",
            "block2_conv2 (Conv2D)        (None, 100, 100, 128)     147584    \n",
            "_________________________________________________________________\n",
            "block2_pool (MaxPooling2D)   (None, 50, 50, 128)       0         \n",
            "_________________________________________________________________\n",
            "block3_conv1 (Conv2D)        (None, 50, 50, 256)       295168    \n",
            "_________________________________________________________________\n",
            "block3_conv2 (Conv2D)        (None, 50, 50, 256)       590080    \n",
            "_________________________________________________________________\n",
            "block3_conv3 (Conv2D)        (None, 50, 50, 256)       590080    \n",
            "_________________________________________________________________\n",
            "block3_pool (MaxPooling2D)   (None, 25, 25, 256)       0         \n",
            "_________________________________________________________________\n",
            "block4_conv1 (Conv2D)        (None, 25, 25, 512)       1180160   \n",
            "_________________________________________________________________\n",
            "block4_conv2 (Conv2D)        (None, 25, 25, 512)       2359808   \n",
            "_________________________________________________________________\n",
            "block4_conv3 (Conv2D)        (None, 25, 25, 512)       2359808   \n",
            "_________________________________________________________________\n",
            "block4_pool (MaxPooling2D)   (None, 12, 12, 512)       0         \n",
            "_________________________________________________________________\n",
            "block5_conv1 (Conv2D)        (None, 12, 12, 512)       2359808   \n",
            "_________________________________________________________________\n",
            "block5_conv2 (Conv2D)        (None, 12, 12, 512)       2359808   \n",
            "_________________________________________________________________\n",
            "block5_conv3 (Conv2D)        (None, 12, 12, 512)       2359808   \n",
            "_________________________________________________________________\n",
            "block5_pool (MaxPooling2D)   (None, 6, 6, 512)         0         \n",
            "=================================================================\n",
            "Total params: 14,714,688\n",
            "Trainable params: 14,714,688\n",
            "Non-trainable params: 0\n",
            "_________________________________________________________________\n"
          ],
          "name": "stdout"
        }
      ]
    },
    {
      "cell_type": "code",
      "metadata": {
        "id": "KYAEeRL_CH5a"
      },
      "source": [
        "for layer in vggModel.layers:\n",
        "    layer.trainable = False"
      ],
      "execution_count": 16,
      "outputs": []
    },
    {
      "cell_type": "code",
      "metadata": {
        "id": "5J79ABQmOHwE"
      },
      "source": [
        "base_model1 = keras.Sequential()\n",
        "base_model1.add(vggModel)"
      ],
      "execution_count": 17,
      "outputs": []
    },
    {
      "cell_type": "code",
      "metadata": {
        "id": "p7v8xoOCCg7l"
      },
      "source": [
        "x1 = base_model1.output\n",
        "x1 = GlobalAveragePooling2D()(x1)\n",
        "x1 = Dropout(0.2)(x1)"
      ],
      "execution_count": 18,
      "outputs": []
    },
    {
      "cell_type": "code",
      "metadata": {
        "colab": {
          "base_uri": "https://localhost:8080/"
        },
        "id": "hkk37rRiCjUM",
        "outputId": "6cd34393-562a-4f36-9db7-fed9710720f8"
      },
      "source": [
        "x1"
      ],
      "execution_count": 19,
      "outputs": [
        {
          "output_type": "execute_result",
          "data": {
            "text/plain": [
              "<KerasTensor: shape=(None, 512) dtype=float32 (created by layer 'dropout')>"
            ]
          },
          "metadata": {
            "tags": []
          },
          "execution_count": 19
        }
      ]
    },
    {
      "cell_type": "markdown",
      "metadata": {
        "id": "pKWV9MDhWQbp"
      },
      "source": [
        "### OpenPose"
      ]
    },
    {
      "cell_type": "code",
      "metadata": {
        "id": "WG1lap_xCkWv"
      },
      "source": [
        "input_ = layers.Input((200, 200, 3), name='image')\n",
        "\n",
        "def main_block(input_, padding='same'):\n",
        "    x = Conv2D(64, (3,3), strides=(1,1), padding=padding, name='conv1_1', activation='relu')(input_)\n",
        "    x = Conv2D(64, (3,3), strides=(1,1), padding=padding, name='conv1_2', activation='relu')(x)\n",
        "    x = MaxPool2D((2,2), strides=(2,2), name='pool1_stage1')(x)\n",
        "\n",
        "    x = Conv2D(128, (3,3), strides=(1,1), padding=padding, name='conv2_1', activation='relu')(x)\n",
        "    x = Conv2D(128, (3,3), strides=(1,1), padding=padding, name='conv2_2', activation='relu')(x)\n",
        "    x = MaxPool2D((2,2), strides=(2,2), name='pool2_stage1')(x)\n",
        "\n",
        "    x = Conv2D(256, (3,3), strides=(1,1), padding=padding, name='conv3_1', activation='relu')(x)\n",
        "    x = Conv2D(256, (3,3), strides=(1,1), padding=padding, name='conv3_2', activation='relu')(x)\n",
        "    x = Conv2D(256, (3,3), strides=(1,1), padding=padding, name='conv3_3', activation='relu')(x)\n",
        "    x = Conv2D(256, (3,3), strides=(1,1), padding=padding, name='conv3_4', activation='relu')(x)\n",
        "    x = MaxPool2D((2,2), strides=(2,2), name='pool3_stage1')(x)\n",
        "\n",
        "    x = Conv2D(512, (3,3), strides=(1,1), padding=padding, name='conv4_1', activation='relu')(x)\n",
        "    x = Conv2D(512, (3,3), strides=(1,1), padding=padding, name='conv4_2', activation='relu')(x)\n",
        "    x = Conv2D(512, (3,3), strides=(1,1), padding=padding, name='conv4_3', activation='relu')(x)\n",
        "    x = Conv2D(512, (3,3), strides=(1,1), padding=padding, name='conv4_4', activation='relu')(x)\n",
        "    x = Conv2D(512, (3,3), strides=(1,1), padding=padding, name='conv5_1', activation='relu')(x)\n",
        "    x = Conv2D(512, (3,3), strides=(1,1), padding=padding, name='conv5_2', activation='relu')(x)\n",
        "    conv5_3_CPM = Conv2D(128, (3,3), strides=(1,1), padding=padding, name='conv5_3_CPM', activation='relu')(x)\n",
        "    x = Conv2D(512, (1,1), strides=(1,1), padding='valid', name='conv6_1_CPM', activation='relu')(conv5_3_CPM)\n",
        "    conv6_2_CPM = Conv2D(22, (1,1), padding='valid', strides=(1,1), name='conv6_2_CPM')(x)\n",
        "    return conv5_3_CPM, conv6_2_CPM\n",
        "\n",
        "conv5_3_CPM, conv6_2_CPM = main_block(input_)\n",
        "\n",
        "def stage_block(conv5_3_CPM, prev_stage, stage, padding='same'):\n",
        "    x = concatenate([ prev_stage, conv5_3_CPM ], axis=3, name='concat_stage{}'.format(stage))\n",
        "    x = Conv2D(128, (7,7), strides=(1,1), padding=padding, name='Mconv1_stage{}'.format(stage), activation='relu')(x)\n",
        "    x = Conv2D(128, (7,7), strides=(1,1), padding=padding, name='Mconv2_stage{}'.format(stage), activation='relu')(x)\n",
        "    x = Conv2D(128, (7,7), strides=(1,1), padding=padding, name='Mconv3_stage{}'.format(stage), activation='relu')(x)\n",
        "    x = Conv2D(128, (7,7), strides=(1,1), padding=padding, name='Mconv4_stage{}'.format(stage), activation='relu')(x)\n",
        "    x = Conv2D(128, (7,7), strides=(1,1), padding=padding, name='Mconv5_stage{}'.format(stage), activation='relu')(x)\n",
        "    x = Conv2D(128, (1,1), strides=(1,1), padding='valid', name='Mconv6_stage{}'.format(stage), activation='relu')(x)\n",
        "    x = Conv2D(22, (1,1), strides=(1,1), padding='valid', name='Mconv7_stage{}'.format(stage))(x)\n",
        "    return x\n",
        "    \n",
        "prev_stage = conv6_2_CPM\n",
        "for stage in range(2, 7):\n",
        "    prev_stage = stage_block(conv5_3_CPM, prev_stage, stage)\n",
        "    \n",
        "x = prev_stage\n",
        "openPoseModel = models.Model(input_, x)"
      ],
      "execution_count": 20,
      "outputs": []
    },
    {
      "cell_type": "code",
      "metadata": {
        "colab": {
          "base_uri": "https://localhost:8080/"
        },
        "id": "cXfMzW-PXKv5",
        "outputId": "5b01a00e-3e2e-4b8a-9656-d93165f5b900"
      },
      "source": [
        "openPoseModel.output"
      ],
      "execution_count": 21,
      "outputs": [
        {
          "output_type": "execute_result",
          "data": {
            "text/plain": [
              "<KerasTensor: shape=(None, 25, 25, 22) dtype=float32 (created by layer 'Mconv7_stage6')>"
            ]
          },
          "metadata": {
            "tags": []
          },
          "execution_count": 21
        }
      ]
    },
    {
      "cell_type": "code",
      "metadata": {
        "colab": {
          "base_uri": "https://localhost:8080/"
        },
        "id": "nmnw_fFpl5vZ",
        "outputId": "3a252026-fbd8-43fd-fdae-e1a97a141374"
      },
      "source": [
        "openPoseModel.summary()"
      ],
      "execution_count": 22,
      "outputs": [
        {
          "output_type": "stream",
          "text": [
            "Model: \"model\"\n",
            "__________________________________________________________________________________________________\n",
            "Layer (type)                    Output Shape         Param #     Connected to                     \n",
            "==================================================================================================\n",
            "image (InputLayer)              [(None, 200, 200, 3) 0                                            \n",
            "__________________________________________________________________________________________________\n",
            "conv1_1 (Conv2D)                (None, 200, 200, 64) 1792        image[0][0]                      \n",
            "__________________________________________________________________________________________________\n",
            "conv1_2 (Conv2D)                (None, 200, 200, 64) 36928       conv1_1[0][0]                    \n",
            "__________________________________________________________________________________________________\n",
            "pool1_stage1 (MaxPooling2D)     (None, 100, 100, 64) 0           conv1_2[0][0]                    \n",
            "__________________________________________________________________________________________________\n",
            "conv2_1 (Conv2D)                (None, 100, 100, 128 73856       pool1_stage1[0][0]               \n",
            "__________________________________________________________________________________________________\n",
            "conv2_2 (Conv2D)                (None, 100, 100, 128 147584      conv2_1[0][0]                    \n",
            "__________________________________________________________________________________________________\n",
            "pool2_stage1 (MaxPooling2D)     (None, 50, 50, 128)  0           conv2_2[0][0]                    \n",
            "__________________________________________________________________________________________________\n",
            "conv3_1 (Conv2D)                (None, 50, 50, 256)  295168      pool2_stage1[0][0]               \n",
            "__________________________________________________________________________________________________\n",
            "conv3_2 (Conv2D)                (None, 50, 50, 256)  590080      conv3_1[0][0]                    \n",
            "__________________________________________________________________________________________________\n",
            "conv3_3 (Conv2D)                (None, 50, 50, 256)  590080      conv3_2[0][0]                    \n",
            "__________________________________________________________________________________________________\n",
            "conv3_4 (Conv2D)                (None, 50, 50, 256)  590080      conv3_3[0][0]                    \n",
            "__________________________________________________________________________________________________\n",
            "pool3_stage1 (MaxPooling2D)     (None, 25, 25, 256)  0           conv3_4[0][0]                    \n",
            "__________________________________________________________________________________________________\n",
            "conv4_1 (Conv2D)                (None, 25, 25, 512)  1180160     pool3_stage1[0][0]               \n",
            "__________________________________________________________________________________________________\n",
            "conv4_2 (Conv2D)                (None, 25, 25, 512)  2359808     conv4_1[0][0]                    \n",
            "__________________________________________________________________________________________________\n",
            "conv4_3 (Conv2D)                (None, 25, 25, 512)  2359808     conv4_2[0][0]                    \n",
            "__________________________________________________________________________________________________\n",
            "conv4_4 (Conv2D)                (None, 25, 25, 512)  2359808     conv4_3[0][0]                    \n",
            "__________________________________________________________________________________________________\n",
            "conv5_1 (Conv2D)                (None, 25, 25, 512)  2359808     conv4_4[0][0]                    \n",
            "__________________________________________________________________________________________________\n",
            "conv5_2 (Conv2D)                (None, 25, 25, 512)  2359808     conv5_1[0][0]                    \n",
            "__________________________________________________________________________________________________\n",
            "conv5_3_CPM (Conv2D)            (None, 25, 25, 128)  589952      conv5_2[0][0]                    \n",
            "__________________________________________________________________________________________________\n",
            "conv6_1_CPM (Conv2D)            (None, 25, 25, 512)  66048       conv5_3_CPM[0][0]                \n",
            "__________________________________________________________________________________________________\n",
            "conv6_2_CPM (Conv2D)            (None, 25, 25, 22)   11286       conv6_1_CPM[0][0]                \n",
            "__________________________________________________________________________________________________\n",
            "concat_stage2 (Concatenate)     (None, 25, 25, 150)  0           conv6_2_CPM[0][0]                \n",
            "                                                                 conv5_3_CPM[0][0]                \n",
            "__________________________________________________________________________________________________\n",
            "Mconv1_stage2 (Conv2D)          (None, 25, 25, 128)  940928      concat_stage2[0][0]              \n",
            "__________________________________________________________________________________________________\n",
            "Mconv2_stage2 (Conv2D)          (None, 25, 25, 128)  802944      Mconv1_stage2[0][0]              \n",
            "__________________________________________________________________________________________________\n",
            "Mconv3_stage2 (Conv2D)          (None, 25, 25, 128)  802944      Mconv2_stage2[0][0]              \n",
            "__________________________________________________________________________________________________\n",
            "Mconv4_stage2 (Conv2D)          (None, 25, 25, 128)  802944      Mconv3_stage2[0][0]              \n",
            "__________________________________________________________________________________________________\n",
            "Mconv5_stage2 (Conv2D)          (None, 25, 25, 128)  802944      Mconv4_stage2[0][0]              \n",
            "__________________________________________________________________________________________________\n",
            "Mconv6_stage2 (Conv2D)          (None, 25, 25, 128)  16512       Mconv5_stage2[0][0]              \n",
            "__________________________________________________________________________________________________\n",
            "Mconv7_stage2 (Conv2D)          (None, 25, 25, 22)   2838        Mconv6_stage2[0][0]              \n",
            "__________________________________________________________________________________________________\n",
            "concat_stage3 (Concatenate)     (None, 25, 25, 150)  0           Mconv7_stage2[0][0]              \n",
            "                                                                 conv5_3_CPM[0][0]                \n",
            "__________________________________________________________________________________________________\n",
            "Mconv1_stage3 (Conv2D)          (None, 25, 25, 128)  940928      concat_stage3[0][0]              \n",
            "__________________________________________________________________________________________________\n",
            "Mconv2_stage3 (Conv2D)          (None, 25, 25, 128)  802944      Mconv1_stage3[0][0]              \n",
            "__________________________________________________________________________________________________\n",
            "Mconv3_stage3 (Conv2D)          (None, 25, 25, 128)  802944      Mconv2_stage3[0][0]              \n",
            "__________________________________________________________________________________________________\n",
            "Mconv4_stage3 (Conv2D)          (None, 25, 25, 128)  802944      Mconv3_stage3[0][0]              \n",
            "__________________________________________________________________________________________________\n",
            "Mconv5_stage3 (Conv2D)          (None, 25, 25, 128)  802944      Mconv4_stage3[0][0]              \n",
            "__________________________________________________________________________________________________\n",
            "Mconv6_stage3 (Conv2D)          (None, 25, 25, 128)  16512       Mconv5_stage3[0][0]              \n",
            "__________________________________________________________________________________________________\n",
            "Mconv7_stage3 (Conv2D)          (None, 25, 25, 22)   2838        Mconv6_stage3[0][0]              \n",
            "__________________________________________________________________________________________________\n",
            "concat_stage4 (Concatenate)     (None, 25, 25, 150)  0           Mconv7_stage3[0][0]              \n",
            "                                                                 conv5_3_CPM[0][0]                \n",
            "__________________________________________________________________________________________________\n",
            "Mconv1_stage4 (Conv2D)          (None, 25, 25, 128)  940928      concat_stage4[0][0]              \n",
            "__________________________________________________________________________________________________\n",
            "Mconv2_stage4 (Conv2D)          (None, 25, 25, 128)  802944      Mconv1_stage4[0][0]              \n",
            "__________________________________________________________________________________________________\n",
            "Mconv3_stage4 (Conv2D)          (None, 25, 25, 128)  802944      Mconv2_stage4[0][0]              \n",
            "__________________________________________________________________________________________________\n",
            "Mconv4_stage4 (Conv2D)          (None, 25, 25, 128)  802944      Mconv3_stage4[0][0]              \n",
            "__________________________________________________________________________________________________\n",
            "Mconv5_stage4 (Conv2D)          (None, 25, 25, 128)  802944      Mconv4_stage4[0][0]              \n",
            "__________________________________________________________________________________________________\n",
            "Mconv6_stage4 (Conv2D)          (None, 25, 25, 128)  16512       Mconv5_stage4[0][0]              \n",
            "__________________________________________________________________________________________________\n",
            "Mconv7_stage4 (Conv2D)          (None, 25, 25, 22)   2838        Mconv6_stage4[0][0]              \n",
            "__________________________________________________________________________________________________\n",
            "concat_stage5 (Concatenate)     (None, 25, 25, 150)  0           Mconv7_stage4[0][0]              \n",
            "                                                                 conv5_3_CPM[0][0]                \n",
            "__________________________________________________________________________________________________\n",
            "Mconv1_stage5 (Conv2D)          (None, 25, 25, 128)  940928      concat_stage5[0][0]              \n",
            "__________________________________________________________________________________________________\n",
            "Mconv2_stage5 (Conv2D)          (None, 25, 25, 128)  802944      Mconv1_stage5[0][0]              \n",
            "__________________________________________________________________________________________________\n",
            "Mconv3_stage5 (Conv2D)          (None, 25, 25, 128)  802944      Mconv2_stage5[0][0]              \n",
            "__________________________________________________________________________________________________\n",
            "Mconv4_stage5 (Conv2D)          (None, 25, 25, 128)  802944      Mconv3_stage5[0][0]              \n",
            "__________________________________________________________________________________________________\n",
            "Mconv5_stage5 (Conv2D)          (None, 25, 25, 128)  802944      Mconv4_stage5[0][0]              \n",
            "__________________________________________________________________________________________________\n",
            "Mconv6_stage5 (Conv2D)          (None, 25, 25, 128)  16512       Mconv5_stage5[0][0]              \n",
            "__________________________________________________________________________________________________\n",
            "Mconv7_stage5 (Conv2D)          (None, 25, 25, 22)   2838        Mconv6_stage5[0][0]              \n",
            "__________________________________________________________________________________________________\n",
            "concat_stage6 (Concatenate)     (None, 25, 25, 150)  0           Mconv7_stage5[0][0]              \n",
            "                                                                 conv5_3_CPM[0][0]                \n",
            "__________________________________________________________________________________________________\n",
            "Mconv1_stage6 (Conv2D)          (None, 25, 25, 128)  940928      concat_stage6[0][0]              \n",
            "__________________________________________________________________________________________________\n",
            "Mconv2_stage6 (Conv2D)          (None, 25, 25, 128)  802944      Mconv1_stage6[0][0]              \n",
            "__________________________________________________________________________________________________\n",
            "Mconv3_stage6 (Conv2D)          (None, 25, 25, 128)  802944      Mconv2_stage6[0][0]              \n",
            "__________________________________________________________________________________________________\n",
            "Mconv4_stage6 (Conv2D)          (None, 25, 25, 128)  802944      Mconv3_stage6[0][0]              \n",
            "__________________________________________________________________________________________________\n",
            "Mconv5_stage6 (Conv2D)          (None, 25, 25, 128)  802944      Mconv4_stage6[0][0]              \n",
            "__________________________________________________________________________________________________\n",
            "Mconv6_stage6 (Conv2D)          (None, 25, 25, 128)  16512       Mconv5_stage6[0][0]              \n",
            "__________________________________________________________________________________________________\n",
            "Mconv7_stage6 (Conv2D)          (None, 25, 25, 22)   2838        Mconv6_stage6[0][0]              \n",
            "==================================================================================================\n",
            "Total params: 36,832,324\n",
            "Trainable params: 36,832,324\n",
            "Non-trainable params: 0\n",
            "__________________________________________________________________________________________________\n"
          ],
          "name": "stdout"
        }
      ]
    },
    {
      "cell_type": "code",
      "metadata": {
        "id": "KxjMP5jSWWbS"
      },
      "source": [
        "# openPoseModel.load_weights('drive/My Drive/ML Project NITT/openpose_hand_keras.h5')"
      ],
      "execution_count": 23,
      "outputs": []
    },
    {
      "cell_type": "code",
      "metadata": {
        "id": "jpk87rXTW0q5"
      },
      "source": [
        "# def featureExtractOpenPose(model, image_orig, scale_mul=2, peaks_th=0.1, sigma=3, mode='heatmap'):\n",
        "    \n",
        "#     scale = 368/image_orig.shape[1]\n",
        "#     scale = scale*scale_mul\n",
        "#     image =  cv2.resize(image_orig, (0,0), fx=scale, fy=scale) \n",
        "#     net_out = model.predict(np.expand_dims( image ,0))\n",
        "\n",
        "#     return net_out"
      ],
      "execution_count": 24,
      "outputs": []
    },
    {
      "cell_type": "code",
      "metadata": {
        "id": "Z9Am2nfzW8OE"
      },
      "source": [
        "# Build tabular model\n",
        "base_model2 = keras.Sequential()\n",
        "base_model2.add(openPoseModel)\n",
        "base_model2.add(Dense(12, activation='relu'))\n",
        "base_model2.add(Dropout(0.2))\n",
        "base_model2.add(Dense(8, activation='relu'))\n",
        "base_model2.add(Dropout(0.2))\n",
        "base_model2.add(Dense(nos_of_Classes, activation='softmax'))\n",
        "base_model2.compile(optimizer='adam', loss='categorical_crossentropy', metrics=['accuracy'])"
      ],
      "execution_count": 25,
      "outputs": []
    },
    {
      "cell_type": "code",
      "metadata": {
        "colab": {
          "base_uri": "https://localhost:8080/"
        },
        "id": "JMTuUNd2jSd6",
        "outputId": "61c901ab-e3a4-438c-a171-784f5ec4a8a3"
      },
      "source": [
        "base_model2.summary()"
      ],
      "execution_count": 26,
      "outputs": [
        {
          "output_type": "stream",
          "text": [
            "Model: \"sequential_1\"\n",
            "_________________________________________________________________\n",
            "Layer (type)                 Output Shape              Param #   \n",
            "=================================================================\n",
            "model (Functional)           (None, 25, 25, 22)        36832324  \n",
            "_________________________________________________________________\n",
            "dense (Dense)                (None, 25, 25, 12)        276       \n",
            "_________________________________________________________________\n",
            "dropout_1 (Dropout)          (None, 25, 25, 12)        0         \n",
            "_________________________________________________________________\n",
            "dense_1 (Dense)              (None, 25, 25, 8)         104       \n",
            "_________________________________________________________________\n",
            "dropout_2 (Dropout)          (None, 25, 25, 8)         0         \n",
            "_________________________________________________________________\n",
            "dense_2 (Dense)              (None, 25, 25, 29)        261       \n",
            "=================================================================\n",
            "Total params: 36,832,965\n",
            "Trainable params: 36,832,965\n",
            "Non-trainable params: 0\n",
            "_________________________________________________________________\n"
          ],
          "name": "stdout"
        }
      ]
    },
    {
      "cell_type": "code",
      "metadata": {
        "colab": {
          "base_uri": "https://localhost:8080/"
        },
        "id": "iuglMBi6jSg0",
        "outputId": "abc68a0c-be0c-46bd-9bd1-a17d48bd9a96"
      },
      "source": [
        "base_model2.summary()"
      ],
      "execution_count": 27,
      "outputs": [
        {
          "output_type": "stream",
          "text": [
            "Model: \"sequential_1\"\n",
            "_________________________________________________________________\n",
            "Layer (type)                 Output Shape              Param #   \n",
            "=================================================================\n",
            "model (Functional)           (None, 25, 25, 22)        36832324  \n",
            "_________________________________________________________________\n",
            "dense (Dense)                (None, 25, 25, 12)        276       \n",
            "_________________________________________________________________\n",
            "dropout_1 (Dropout)          (None, 25, 25, 12)        0         \n",
            "_________________________________________________________________\n",
            "dense_1 (Dense)              (None, 25, 25, 8)         104       \n",
            "_________________________________________________________________\n",
            "dropout_2 (Dropout)          (None, 25, 25, 8)         0         \n",
            "_________________________________________________________________\n",
            "dense_2 (Dense)              (None, 25, 25, 29)        261       \n",
            "=================================================================\n",
            "Total params: 36,832,965\n",
            "Trainable params: 36,832,965\n",
            "Non-trainable params: 0\n",
            "_________________________________________________________________\n"
          ],
          "name": "stdout"
        }
      ]
    },
    {
      "cell_type": "markdown",
      "metadata": {
        "id": "bFcBxAicZKM1"
      },
      "source": [
        ""
      ]
    },
    {
      "cell_type": "code",
      "metadata": {
        "id": "Evk9yX0PYkRm"
      },
      "source": [
        "x2 = base_model2.output"
      ],
      "execution_count": 28,
      "outputs": []
    },
    {
      "cell_type": "code",
      "metadata": {
        "id": "IwJ1sPG1jAaf"
      },
      "source": [
        "x2 = base_model2.output\n",
        "x2 = GlobalAveragePooling2D()(x2)\n",
        "x2 = Dropout(0.2)(x2)"
      ],
      "execution_count": 29,
      "outputs": []
    },
    {
      "cell_type": "code",
      "metadata": {
        "colab": {
          "base_uri": "https://localhost:8080/"
        },
        "id": "nl-qfz-JjtZ-",
        "outputId": "aaf4c781-1586-4fc4-bfb2-1ec61a783426"
      },
      "source": [
        "x2"
      ],
      "execution_count": 30,
      "outputs": [
        {
          "output_type": "execute_result",
          "data": {
            "text/plain": [
              "<KerasTensor: shape=(None, 29) dtype=float32 (created by layer 'dropout_3')>"
            ]
          },
          "metadata": {
            "tags": []
          },
          "execution_count": 30
        }
      ]
    },
    {
      "cell_type": "code",
      "metadata": {
        "id": "MUbkASt7W-pc"
      },
      "source": [
        "# LATE FUSION\n",
        "fusedModel = concatenate([x1, x2])\n",
        "fusedModel = keras.Sequential()(fusedModel)\n",
        "fusedModel = Dense(512, activation='relu')(fusedModel) #12\n",
        "fusedModel = Dropout(0.2)(fusedModel)\n",
        "fusedModel = Dense(512, activation='relu')(fusedModel) #8\n",
        "fusedModel = Dropout(0.2)(fusedModel)\n",
        "predictions = Dense(nos_of_Classes, activation='softmax')(fusedModel)"
      ],
      "execution_count": 31,
      "outputs": []
    },
    {
      "cell_type": "code",
      "metadata": {
        "id": "Ra33B0C1YlRU"
      },
      "source": [
        "model = models.Model(inputs=[base_model1.input, base_model2.input], outputs=predictions)"
      ],
      "execution_count": 32,
      "outputs": []
    },
    {
      "cell_type": "code",
      "metadata": {
        "id": "1GPu3iHNZ060"
      },
      "source": [
        "model.compile(optimizer='adam', loss='categorical_crossentropy', metrics=['accuracy'])"
      ],
      "execution_count": 33,
      "outputs": []
    },
    {
      "cell_type": "code",
      "metadata": {
        "id": "hnmnAbFVaTJN"
      },
      "source": [
        "from keras.preprocessing.image import ImageDataGenerator\n",
        "\n",
        "datagen = ImageDataGenerator(\n",
        "    rotation_range=20,\n",
        "    width_shift_range=0.2,\n",
        "    height_shift_range=0.2,\n",
        "    horizontal_flip=True,\n",
        "    shear_range=0.2,\n",
        "    zoom_range=0.2,\n",
        "    validation_split=0.2\n",
        ")"
      ],
      "execution_count": 34,
      "outputs": []
    },
    {
      "cell_type": "code",
      "metadata": {
        "id": "ISahIzAGaTGb"
      },
      "source": [
        "# converting string labels to interger labels\n",
        "\n",
        "def stringMapInt(y):\n",
        "\n",
        "  classLabelsDict = {}\n",
        "  value = 0\n",
        "  for label in classLabels:\n",
        "    classLabelsDict[label] = value\n",
        "    value = value + 1\n",
        "  \n",
        "  y_data = []\n",
        "\n",
        "  for label in tqdm(y):\n",
        "    y_data.append(classLabelsDict[label])\n",
        "  \n",
        "  return y_data\n"
      ],
      "execution_count": 35,
      "outputs": []
    },
    {
      "cell_type": "code",
      "metadata": {
        "colab": {
          "base_uri": "https://localhost:8080/"
        },
        "id": "NV2S8vnYaTEF",
        "outputId": "02456281-c4c6-4f20-85b3-83028d2c969c"
      },
      "source": [
        "# One Hot Encoding for the classLabels\n",
        "\n",
        "y_train_Label = stringMapInt(y_train)\n",
        "y_test_Label = stringMapInt(y_test)"
      ],
      "execution_count": 36,
      "outputs": [
        {
          "output_type": "stream",
          "text": [
            "100%|██████████| 1087/1087 [00:00<00:00, 618533.23it/s]\n",
            "100%|██████████| 363/363 [00:00<00:00, 220114.55it/s]\n"
          ],
          "name": "stderr"
        }
      ]
    },
    {
      "cell_type": "code",
      "metadata": {
        "id": "Wz1XzcdbaTBg"
      },
      "source": [
        "y_train_oneHotEncoding = to_categorical(y_train_Label, num_classes=nos_of_Classes)\n",
        "y_test_oneHotEncoding = to_categorical(y_test_Label, num_classes=nos_of_Classes)"
      ],
      "execution_count": 37,
      "outputs": []
    },
    {
      "cell_type": "code",
      "metadata": {
        "id": "harxRmt0aiqI"
      },
      "source": [
        ""
      ],
      "execution_count": 37,
      "outputs": []
    },
    {
      "cell_type": "markdown",
      "metadata": {
        "id": "jlOEskQLaiOA"
      },
      "source": [
        ""
      ]
    },
    {
      "cell_type": "code",
      "metadata": {
        "colab": {
          "base_uri": "https://localhost:8080/"
        },
        "id": "YTj7GpTYaS_U",
        "outputId": "5188764b-7582-4082-fbe1-44a1c7cfd54c"
      },
      "source": [
        "y_train_oneHotEncoding"
      ],
      "execution_count": 38,
      "outputs": [
        {
          "output_type": "execute_result",
          "data": {
            "text/plain": [
              "array([[0., 0., 0., ..., 0., 0., 0.],\n",
              "       [0., 0., 0., ..., 0., 0., 0.],\n",
              "       [0., 0., 0., ..., 0., 0., 0.],\n",
              "       ...,\n",
              "       [0., 0., 0., ..., 0., 0., 0.],\n",
              "       [0., 0., 0., ..., 0., 1., 0.],\n",
              "       [0., 0., 0., ..., 0., 0., 0.]], dtype=float32)"
            ]
          },
          "metadata": {
            "tags": []
          },
          "execution_count": 38
        }
      ]
    },
    {
      "cell_type": "code",
      "metadata": {
        "id": "NBa5ZHf_akHr"
      },
      "source": [
        "train_generator = datagen.flow([array(X_train),array(X_train)], y_train_oneHotEncoding, batch_size=32)\n",
        "validation_generator = datagen.flow([array(X_test),array(X_test)], y_test_oneHotEncoding, batch_size=16)"
      ],
      "execution_count": 39,
      "outputs": []
    },
    {
      "cell_type": "code",
      "metadata": {
        "id": "kqVWQPsxakKQ"
      },
      "source": [
        ""
      ],
      "execution_count": 39,
      "outputs": []
    },
    {
      "cell_type": "code",
      "metadata": {
        "id": "4ybjvat_akPN"
      },
      "source": [
        ""
      ],
      "execution_count": null,
      "outputs": []
    },
    {
      "cell_type": "code",
      "metadata": {
        "id": "XBNdiI5rakRo"
      },
      "source": [
        ""
      ],
      "execution_count": null,
      "outputs": []
    },
    {
      "cell_type": "code",
      "metadata": {
        "id": "d8t0WvHvakVB"
      },
      "source": [
        ""
      ],
      "execution_count": null,
      "outputs": []
    },
    {
      "cell_type": "code",
      "metadata": {
        "id": "VjniewSSZ5dW"
      },
      "source": [
        "# # callbacks = [\n",
        "# #     keras.callbacks.EarlyStopping(\n",
        "# #         # Stop training when `val_loss` is no longer improving\n",
        "# #         monitor='val_loss',\n",
        "# #         # \"no longer improving\" being defined as \"no better than 1e-2 less\"\n",
        "# #         min_delta=1e-2,\n",
        "# #         # \"no longer improving\" being further defined as \"for at least 2 epochs\"\n",
        "# #         patience=2,\n",
        "# #         verbose=1)\n",
        "# # ]\n",
        "\n",
        "# # filepath = '/content/featureFusionModel.hdf5'\n",
        "# filepath = '/content/featureFusionModel.epoch{epoch:02d}-loss{val_loss:.2f}.hdf5'\n",
        "# checkpoint = ModelCheckpoint(filepath=filepath, \n",
        "#                              monitor='val_loss',\n",
        "#                              verbose=1, \n",
        "#                              save_best_only=True,\n",
        "#                              mode='min')\n",
        "# callbacks = [checkpoint]\n",
        "\n",
        "# model_checkpoint_callback = ModelCheckpoint(\n",
        "#     filepath=filepath,\n",
        "#     save_weights_only=False,\n",
        "#     monitor='val_loss',\n",
        "#     mode='min',\n",
        "#     save_best_only=True)"
      ],
      "execution_count": null,
      "outputs": []
    },
    {
      "cell_type": "code",
      "metadata": {
        "colab": {
          "base_uri": "https://localhost:8080/"
        },
        "id": "WRqdkOrNaBUm",
        "outputId": "4ce30dcb-8f93-46a8-e683-7558d87f8d11"
      },
      "source": [
        "epochs = 50\n",
        "\n",
        "history = model.fit_generator(\n",
        "    train_generator,\n",
        "    steps_per_epoch=len(X_train) / 32,\n",
        "    epochs=epochs,\n",
        "    validation_data=validation_generator,\n",
        "    # callbacks=[model_checkpoint_callback]\n",
        ")"
      ],
      "execution_count": 40,
      "outputs": [
        {
          "output_type": "stream",
          "text": [
            "/usr/local/lib/python3.7/dist-packages/tensorflow/python/keras/engine/training.py:1844: UserWarning: `Model.fit_generator` is deprecated and will be removed in a future version. Please use `Model.fit`, which supports generators.\n",
            "  warnings.warn('`Model.fit_generator` is deprecated and '\n"
          ],
          "name": "stderr"
        },
        {
          "output_type": "stream",
          "text": [
            "Epoch 1/50\n",
            "33/33 [==============================] - 102s 2s/step - loss: 3.4585 - accuracy: 0.0478 - val_loss: 3.3561 - val_accuracy: 0.0468\n",
            "Epoch 2/50\n",
            "33/33 [==============================] - 30s 871ms/step - loss: 3.3159 - accuracy: 0.0657 - val_loss: 3.2131 - val_accuracy: 0.1322\n",
            "Epoch 3/50\n",
            "33/33 [==============================] - 29s 863ms/step - loss: 3.0960 - accuracy: 0.1533 - val_loss: 2.8353 - val_accuracy: 0.1901\n",
            "Epoch 4/50\n",
            "33/33 [==============================] - 29s 851ms/step - loss: 2.7165 - accuracy: 0.2378 - val_loss: 2.3132 - val_accuracy: 0.4435\n",
            "Epoch 5/50\n",
            "33/33 [==============================] - 29s 856ms/step - loss: 2.2291 - accuracy: 0.3734 - val_loss: 1.8430 - val_accuracy: 0.5565\n",
            "Epoch 6/50\n",
            "33/33 [==============================] - 29s 865ms/step - loss: 1.8365 - accuracy: 0.4944 - val_loss: 1.6244 - val_accuracy: 0.5758\n",
            "Epoch 7/50\n",
            "33/33 [==============================] - 29s 857ms/step - loss: 1.4869 - accuracy: 0.5801 - val_loss: 1.1921 - val_accuracy: 0.7466\n",
            "Epoch 8/50\n",
            "33/33 [==============================] - 29s 859ms/step - loss: 1.3221 - accuracy: 0.6032 - val_loss: 1.1189 - val_accuracy: 0.7245\n",
            "Epoch 9/50\n",
            "33/33 [==============================] - 30s 868ms/step - loss: 1.2126 - accuracy: 0.6341 - val_loss: 1.0024 - val_accuracy: 0.7493\n",
            "Epoch 10/50\n",
            "33/33 [==============================] - 29s 865ms/step - loss: 1.1241 - accuracy: 0.6670 - val_loss: 0.8000 - val_accuracy: 0.8209\n",
            "Epoch 11/50\n",
            "33/33 [==============================] - 29s 860ms/step - loss: 0.8174 - accuracy: 0.7539 - val_loss: 0.7637 - val_accuracy: 0.8264\n",
            "Epoch 12/50\n",
            "33/33 [==============================] - 29s 860ms/step - loss: 0.8505 - accuracy: 0.7622 - val_loss: 0.8248 - val_accuracy: 0.8072\n",
            "Epoch 13/50\n",
            "33/33 [==============================] - 29s 864ms/step - loss: 0.8207 - accuracy: 0.7772 - val_loss: 0.7519 - val_accuracy: 0.7824\n",
            "Epoch 14/50\n",
            "33/33 [==============================] - 29s 861ms/step - loss: 0.8056 - accuracy: 0.7551 - val_loss: 0.6975 - val_accuracy: 0.7961\n",
            "Epoch 15/50\n",
            "33/33 [==============================] - 29s 861ms/step - loss: 0.8006 - accuracy: 0.7623 - val_loss: 0.7059 - val_accuracy: 0.8182\n",
            "Epoch 16/50\n",
            "33/33 [==============================] - 29s 866ms/step - loss: 0.7100 - accuracy: 0.7905 - val_loss: 0.5921 - val_accuracy: 0.8485\n",
            "Epoch 17/50\n",
            "33/33 [==============================] - 29s 855ms/step - loss: 0.7031 - accuracy: 0.7870 - val_loss: 0.5510 - val_accuracy: 0.8485\n",
            "Epoch 18/50\n",
            "33/33 [==============================] - 29s 857ms/step - loss: 0.6581 - accuracy: 0.8112 - val_loss: 0.6237 - val_accuracy: 0.8292\n",
            "Epoch 19/50\n",
            "33/33 [==============================] - 30s 870ms/step - loss: 0.6453 - accuracy: 0.8022 - val_loss: 0.5140 - val_accuracy: 0.8733\n",
            "Epoch 20/50\n",
            "33/33 [==============================] - 29s 858ms/step - loss: 0.5750 - accuracy: 0.8251 - val_loss: 0.5300 - val_accuracy: 0.8678\n",
            "Epoch 21/50\n",
            "33/33 [==============================] - 29s 854ms/step - loss: 0.6343 - accuracy: 0.8005 - val_loss: 0.4405 - val_accuracy: 0.8898\n",
            "Epoch 22/50\n",
            "33/33 [==============================] - 29s 863ms/step - loss: 0.6222 - accuracy: 0.8001 - val_loss: 0.5471 - val_accuracy: 0.8209\n",
            "Epoch 23/50\n",
            "33/33 [==============================] - 29s 861ms/step - loss: 0.5274 - accuracy: 0.8386 - val_loss: 0.4473 - val_accuracy: 0.8815\n",
            "Epoch 24/50\n",
            "33/33 [==============================] - 29s 857ms/step - loss: 0.4902 - accuracy: 0.8424 - val_loss: 0.4273 - val_accuracy: 0.8843\n",
            "Epoch 25/50\n",
            "33/33 [==============================] - 29s 859ms/step - loss: 0.5483 - accuracy: 0.8390 - val_loss: 0.4912 - val_accuracy: 0.8678\n",
            "Epoch 26/50\n",
            "33/33 [==============================] - 29s 862ms/step - loss: 0.4635 - accuracy: 0.8514 - val_loss: 0.4120 - val_accuracy: 0.8871\n",
            "Epoch 27/50\n",
            "33/33 [==============================] - 29s 864ms/step - loss: 0.4907 - accuracy: 0.8438 - val_loss: 0.3379 - val_accuracy: 0.9091\n",
            "Epoch 28/50\n",
            "33/33 [==============================] - 29s 863ms/step - loss: 0.4405 - accuracy: 0.8636 - val_loss: 0.3658 - val_accuracy: 0.8898\n",
            "Epoch 29/50\n",
            "33/33 [==============================] - 29s 858ms/step - loss: 0.4274 - accuracy: 0.8837 - val_loss: 0.4226 - val_accuracy: 0.8623\n",
            "Epoch 30/50\n",
            "33/33 [==============================] - 29s 856ms/step - loss: 0.4874 - accuracy: 0.8509 - val_loss: 0.3841 - val_accuracy: 0.8733\n",
            "Epoch 31/50\n",
            "33/33 [==============================] - 29s 858ms/step - loss: 0.4579 - accuracy: 0.8522 - val_loss: 0.3808 - val_accuracy: 0.8871\n",
            "Epoch 32/50\n",
            "33/33 [==============================] - 29s 844ms/step - loss: 0.4280 - accuracy: 0.8675 - val_loss: 0.3199 - val_accuracy: 0.8843\n",
            "Epoch 33/50\n",
            "33/33 [==============================] - 29s 862ms/step - loss: 0.4017 - accuracy: 0.8828 - val_loss: 0.4162 - val_accuracy: 0.8871\n",
            "Epoch 34/50\n",
            "33/33 [==============================] - 29s 855ms/step - loss: 0.4101 - accuracy: 0.8703 - val_loss: 0.3050 - val_accuracy: 0.9174\n",
            "Epoch 35/50\n",
            "33/33 [==============================] - 28s 810ms/step - loss: 0.3797 - accuracy: 0.8856 - val_loss: 0.3225 - val_accuracy: 0.9229\n",
            "Epoch 36/50\n",
            "33/33 [==============================] - 28s 819ms/step - loss: 0.3741 - accuracy: 0.8878 - val_loss: 0.3578 - val_accuracy: 0.9063\n",
            "Epoch 37/50\n",
            "33/33 [==============================] - 29s 839ms/step - loss: 0.3384 - accuracy: 0.8885 - val_loss: 0.2959 - val_accuracy: 0.9008\n",
            "Epoch 38/50\n",
            "33/33 [==============================] - 28s 827ms/step - loss: 0.3388 - accuracy: 0.8957 - val_loss: 0.2110 - val_accuracy: 0.9532\n",
            "Epoch 39/50\n",
            "33/33 [==============================] - 28s 824ms/step - loss: 0.3869 - accuracy: 0.8753 - val_loss: 0.3196 - val_accuracy: 0.8981\n",
            "Epoch 40/50\n",
            "33/33 [==============================] - 28s 830ms/step - loss: 0.3738 - accuracy: 0.8720 - val_loss: 0.3443 - val_accuracy: 0.8953\n",
            "Epoch 41/50\n",
            "33/33 [==============================] - 28s 830ms/step - loss: 0.3584 - accuracy: 0.8815 - val_loss: 0.3074 - val_accuracy: 0.8981\n",
            "Epoch 42/50\n",
            "33/33 [==============================] - 28s 825ms/step - loss: 0.4227 - accuracy: 0.8676 - val_loss: 0.2903 - val_accuracy: 0.9118\n",
            "Epoch 43/50\n",
            "33/33 [==============================] - 28s 824ms/step - loss: 0.3319 - accuracy: 0.8892 - val_loss: 0.2606 - val_accuracy: 0.9146\n",
            "Epoch 44/50\n",
            "33/33 [==============================] - 28s 822ms/step - loss: 0.3091 - accuracy: 0.9056 - val_loss: 0.2739 - val_accuracy: 0.9229\n",
            "Epoch 45/50\n",
            "33/33 [==============================] - 28s 823ms/step - loss: 0.3590 - accuracy: 0.8982 - val_loss: 0.2812 - val_accuracy: 0.9229\n",
            "Epoch 46/50\n",
            "33/33 [==============================] - 28s 828ms/step - loss: 0.2809 - accuracy: 0.9070 - val_loss: 0.2420 - val_accuracy: 0.9339\n",
            "Epoch 47/50\n",
            "33/33 [==============================] - 28s 819ms/step - loss: 0.3177 - accuracy: 0.8959 - val_loss: 0.2479 - val_accuracy: 0.9174\n",
            "Epoch 48/50\n",
            "33/33 [==============================] - 28s 818ms/step - loss: 0.3574 - accuracy: 0.8835 - val_loss: 0.1886 - val_accuracy: 0.9504\n",
            "Epoch 49/50\n",
            "33/33 [==============================] - 28s 831ms/step - loss: 0.2532 - accuracy: 0.9104 - val_loss: 0.2475 - val_accuracy: 0.9366\n",
            "Epoch 50/50\n",
            "33/33 [==============================] - 28s 823ms/step - loss: 0.2950 - accuracy: 0.9029 - val_loss: 0.2572 - val_accuracy: 0.9146\n"
          ],
          "name": "stdout"
        }
      ]
    },
    {
      "cell_type": "code",
      "metadata": {
        "id": "LLq3IRAZMKMF"
      },
      "source": [
        ""
      ],
      "execution_count": null,
      "outputs": []
    },
    {
      "cell_type": "code",
      "metadata": {
        "id": "EyzOMcenM1GS"
      },
      "source": [
        "# model.load(filepath)"
      ],
      "execution_count": null,
      "outputs": []
    },
    {
      "cell_type": "code",
      "metadata": {
        "id": "B_BATUPZM1Jf"
      },
      "source": [
        "# model = tf.keras.models.load_model(filepath)"
      ],
      "execution_count": null,
      "outputs": []
    },
    {
      "cell_type": "code",
      "metadata": {
        "id": "eQvNmHRLD9Vs"
      },
      "source": [
        "# y_test_Label - This is validation labels\n",
        "y_valTest_prob = model.predict([np.array(X_test), np.array(X_test)])"
      ],
      "execution_count": 41,
      "outputs": []
    },
    {
      "cell_type": "code",
      "metadata": {
        "id": "20Nukc4kD9Yc"
      },
      "source": [
        "y_valTest_predcited = y_valTest_prob.argmax(axis=-1)"
      ],
      "execution_count": 42,
      "outputs": []
    },
    {
      "cell_type": "code",
      "metadata": {
        "colab": {
          "base_uri": "https://localhost:8080/"
        },
        "id": "PnharEQpD9a7",
        "outputId": "f1e6392b-b59e-4fca-e5d3-568e5100bcf1"
      },
      "source": [
        "print(y_test_Label)\n",
        "print(y_valTest_predcited)"
      ],
      "execution_count": 43,
      "outputs": [
        {
          "output_type": "stream",
          "text": [
            "[20, 7, 17, 28, 2, 1, 18, 10, 23, 12, 24, 11, 12, 6, 26, 6, 24, 23, 12, 4, 3, 23, 7, 4, 14, 0, 0, 4, 19, 5, 27, 23, 7, 27, 2, 28, 9, 10, 19, 4, 17, 19, 18, 0, 13, 6, 21, 13, 3, 10, 12, 13, 12, 10, 6, 2, 5, 23, 9, 4, 15, 11, 11, 25, 18, 14, 2, 2, 11, 19, 19, 6, 26, 9, 1, 25, 15, 5, 3, 1, 12, 25, 4, 25, 21, 14, 9, 12, 15, 24, 17, 11, 21, 3, 14, 4, 10, 28, 9, 12, 24, 13, 9, 2, 12, 14, 3, 25, 26, 12, 1, 9, 17, 16, 16, 13, 5, 27, 22, 5, 10, 9, 1, 28, 26, 25, 23, 3, 11, 26, 2, 25, 10, 16, 6, 14, 5, 13, 14, 24, 10, 21, 16, 26, 10, 23, 22, 0, 24, 20, 0, 6, 11, 14, 26, 25, 9, 8, 3, 22, 17, 28, 26, 21, 20, 9, 19, 3, 20, 0, 27, 1, 26, 22, 6, 5, 22, 10, 15, 13, 9, 17, 7, 21, 2, 27, 7, 28, 2, 10, 15, 17, 23, 22, 0, 20, 12, 6, 8, 1, 16, 25, 0, 4, 2, 24, 25, 2, 20, 10, 0, 13, 22, 24, 22, 5, 14, 11, 2, 5, 17, 24, 5, 25, 22, 24, 20, 11, 0, 20, 1, 25, 5, 25, 20, 18, 16, 27, 10, 19, 18, 7, 25, 0, 23, 26, 25, 24, 7, 19, 25, 6, 2, 19, 17, 18, 9, 1, 18, 19, 26, 3, 28, 23, 17, 28, 4, 19, 0, 26, 17, 26, 23, 4, 15, 7, 16, 16, 15, 10, 17, 2, 6, 24, 22, 28, 8, 26, 24, 17, 9, 16, 10, 15, 17, 23, 28, 21, 12, 24, 0, 10, 1, 3, 7, 8, 17, 20, 22, 5, 17, 8, 13, 26, 16, 14, 23, 11, 20, 2, 4, 20, 15, 19, 8, 24, 12, 3, 20, 1, 3, 1, 5, 26, 10, 15, 12, 20, 4, 20, 21, 20, 6, 23, 6, 6, 16, 11, 0, 7, 26, 21, 14, 23, 15, 28, 6, 18, 22, 9, 8, 21, 5]\n",
            "[20  7 17 28  2  1 18 10 23 12 24 11 12  6 26  6 24 23 12  4  3 23  7  4\n",
            " 14  0  0  4 19  5 27 23  7 27  2 28  9 10 19  4 17 19 18  0 13  6 21 13\n",
            "  3 10 12 13 12 10  6  2  5 23  9  4 15 11 11 25 18 14  2  2 11 19 19  6\n",
            " 26  9  1 25 15  5  3  1 12 25  4 25 21 14  9 12 15 24 17 11 21  3 14  4\n",
            " 10 28  9 12 24 13  9  2 12 14  3 25 26 12  1  9 17 16 16 13  5 27 22  5\n",
            " 10  9  1 28 26 25 23  3 11 26  2 25 10 16  6 14  5 13 14  8 10 21 16 26\n",
            " 10 23 22  0 24 20  0  6 11 14 26 25  9  8  3 22 17 28 26 21 20  9 19  3\n",
            " 20  0 27  1 26 22  6  5 22 10 15 13  9 17  7 21  2 27  7 28  2 10 15 17\n",
            " 23 22  0 20 12  6  8  1 16 25  0  4  2 24 25  2 20 10  0 13 22 24 22  5\n",
            " 14 11  2  5 17 24  5 25 22 24 20 11  0 20  1 25  5 25 20 18 26 27 10 19\n",
            "  4  7 25  0 19 26 25 24  7 19 25  6  2 19 17 23  9  1  4 19 26  3 28 23\n",
            " 17 28  4 19  0 26 17 26 23  4 15  7 16 16 15 10 17  2  6 24 22 28  8 26\n",
            " 24 17  9 16 10 15 17 23 28 21 12 24  0 10  1  3  7  8 17 20 22  5 17  8\n",
            " 13 26 16 14 23 11 20  2  4 20 15 19  8 24 12  3 20  1  3  1  5 26 10 15\n",
            " 12 20  4 20 21 20  6 23  6  6 16 11  0  7 26 21 14 23 15 28  6  4 22  9\n",
            "  8 21  5]\n"
          ],
          "name": "stdout"
        }
      ]
    },
    {
      "cell_type": "code",
      "metadata": {
        "colab": {
          "base_uri": "https://localhost:8080/"
        },
        "id": "Mkwg1ctTD9d4",
        "outputId": "37f06f4a-9ffd-45d8-ca57-d3a7367f4c03"
      },
      "source": [
        "# Accuracy Score for Validation Test and predicted test labels\n",
        "accuracy_score(y_test_Label, y_valTest_predcited)"
      ],
      "execution_count": 44,
      "outputs": [
        {
          "output_type": "execute_result",
          "data": {
            "text/plain": [
              "0.9807162534435262"
            ]
          },
          "metadata": {
            "tags": []
          },
          "execution_count": 44
        }
      ]
    },
    {
      "cell_type": "code",
      "metadata": {
        "id": "pLvw7CQ0D9fi"
      },
      "source": [
        "cmVT = confusion_matrix(y_test_Label, y_valTest_predcited)"
      ],
      "execution_count": 45,
      "outputs": []
    },
    {
      "cell_type": "code",
      "metadata": {
        "id": "ejRWNq3iD9h4"
      },
      "source": [
        "df_cmVT = pd.DataFrame(cmVT, index = classLabels, columns = classLabels)"
      ],
      "execution_count": 46,
      "outputs": []
    },
    {
      "cell_type": "code",
      "metadata": {
        "colab": {
          "base_uri": "https://localhost:8080/",
          "height": 948
        },
        "id": "Rq9WNKGsD9kd",
        "outputId": "5359a851-aed9-4979-c353-bd5407b86c4c"
      },
      "source": [
        "df_cmVT"
      ],
      "execution_count": 47,
      "outputs": [
        {
          "output_type": "execute_result",
          "data": {
            "text/html": [
              "<div>\n",
              "<style scoped>\n",
              "    .dataframe tbody tr th:only-of-type {\n",
              "        vertical-align: middle;\n",
              "    }\n",
              "\n",
              "    .dataframe tbody tr th {\n",
              "        vertical-align: top;\n",
              "    }\n",
              "\n",
              "    .dataframe thead th {\n",
              "        text-align: right;\n",
              "    }\n",
              "</style>\n",
              "<table border=\"1\" class=\"dataframe\">\n",
              "  <thead>\n",
              "    <tr style=\"text-align: right;\">\n",
              "      <th></th>\n",
              "      <th>A</th>\n",
              "      <th>B</th>\n",
              "      <th>C</th>\n",
              "      <th>D</th>\n",
              "      <th>E</th>\n",
              "      <th>F</th>\n",
              "      <th>G</th>\n",
              "      <th>H</th>\n",
              "      <th>I</th>\n",
              "      <th>J</th>\n",
              "      <th>K</th>\n",
              "      <th>L</th>\n",
              "      <th>M</th>\n",
              "      <th>N</th>\n",
              "      <th>O</th>\n",
              "      <th>P</th>\n",
              "      <th>Q</th>\n",
              "      <th>R</th>\n",
              "      <th>S</th>\n",
              "      <th>T</th>\n",
              "      <th>U</th>\n",
              "      <th>V</th>\n",
              "      <th>W</th>\n",
              "      <th>X</th>\n",
              "      <th>Y</th>\n",
              "      <th>Z</th>\n",
              "      <th>del</th>\n",
              "      <th>nothing</th>\n",
              "      <th>space</th>\n",
              "    </tr>\n",
              "  </thead>\n",
              "  <tbody>\n",
              "    <tr>\n",
              "      <th>A</th>\n",
              "      <td>14</td>\n",
              "      <td>0</td>\n",
              "      <td>0</td>\n",
              "      <td>0</td>\n",
              "      <td>0</td>\n",
              "      <td>0</td>\n",
              "      <td>0</td>\n",
              "      <td>0</td>\n",
              "      <td>0</td>\n",
              "      <td>0</td>\n",
              "      <td>0</td>\n",
              "      <td>0</td>\n",
              "      <td>0</td>\n",
              "      <td>0</td>\n",
              "      <td>0</td>\n",
              "      <td>0</td>\n",
              "      <td>0</td>\n",
              "      <td>0</td>\n",
              "      <td>0</td>\n",
              "      <td>0</td>\n",
              "      <td>0</td>\n",
              "      <td>0</td>\n",
              "      <td>0</td>\n",
              "      <td>0</td>\n",
              "      <td>0</td>\n",
              "      <td>0</td>\n",
              "      <td>0</td>\n",
              "      <td>0</td>\n",
              "      <td>0</td>\n",
              "    </tr>\n",
              "    <tr>\n",
              "      <th>B</th>\n",
              "      <td>0</td>\n",
              "      <td>12</td>\n",
              "      <td>0</td>\n",
              "      <td>0</td>\n",
              "      <td>0</td>\n",
              "      <td>0</td>\n",
              "      <td>0</td>\n",
              "      <td>0</td>\n",
              "      <td>0</td>\n",
              "      <td>0</td>\n",
              "      <td>0</td>\n",
              "      <td>0</td>\n",
              "      <td>0</td>\n",
              "      <td>0</td>\n",
              "      <td>0</td>\n",
              "      <td>0</td>\n",
              "      <td>0</td>\n",
              "      <td>0</td>\n",
              "      <td>0</td>\n",
              "      <td>0</td>\n",
              "      <td>0</td>\n",
              "      <td>0</td>\n",
              "      <td>0</td>\n",
              "      <td>0</td>\n",
              "      <td>0</td>\n",
              "      <td>0</td>\n",
              "      <td>0</td>\n",
              "      <td>0</td>\n",
              "      <td>0</td>\n",
              "    </tr>\n",
              "    <tr>\n",
              "      <th>C</th>\n",
              "      <td>0</td>\n",
              "      <td>0</td>\n",
              "      <td>15</td>\n",
              "      <td>0</td>\n",
              "      <td>0</td>\n",
              "      <td>0</td>\n",
              "      <td>0</td>\n",
              "      <td>0</td>\n",
              "      <td>0</td>\n",
              "      <td>0</td>\n",
              "      <td>0</td>\n",
              "      <td>0</td>\n",
              "      <td>0</td>\n",
              "      <td>0</td>\n",
              "      <td>0</td>\n",
              "      <td>0</td>\n",
              "      <td>0</td>\n",
              "      <td>0</td>\n",
              "      <td>0</td>\n",
              "      <td>0</td>\n",
              "      <td>0</td>\n",
              "      <td>0</td>\n",
              "      <td>0</td>\n",
              "      <td>0</td>\n",
              "      <td>0</td>\n",
              "      <td>0</td>\n",
              "      <td>0</td>\n",
              "      <td>0</td>\n",
              "      <td>0</td>\n",
              "    </tr>\n",
              "    <tr>\n",
              "      <th>D</th>\n",
              "      <td>0</td>\n",
              "      <td>0</td>\n",
              "      <td>0</td>\n",
              "      <td>12</td>\n",
              "      <td>0</td>\n",
              "      <td>0</td>\n",
              "      <td>0</td>\n",
              "      <td>0</td>\n",
              "      <td>0</td>\n",
              "      <td>0</td>\n",
              "      <td>0</td>\n",
              "      <td>0</td>\n",
              "      <td>0</td>\n",
              "      <td>0</td>\n",
              "      <td>0</td>\n",
              "      <td>0</td>\n",
              "      <td>0</td>\n",
              "      <td>0</td>\n",
              "      <td>0</td>\n",
              "      <td>0</td>\n",
              "      <td>0</td>\n",
              "      <td>0</td>\n",
              "      <td>0</td>\n",
              "      <td>0</td>\n",
              "      <td>0</td>\n",
              "      <td>0</td>\n",
              "      <td>0</td>\n",
              "      <td>0</td>\n",
              "      <td>0</td>\n",
              "    </tr>\n",
              "    <tr>\n",
              "      <th>E</th>\n",
              "      <td>0</td>\n",
              "      <td>0</td>\n",
              "      <td>0</td>\n",
              "      <td>0</td>\n",
              "      <td>12</td>\n",
              "      <td>0</td>\n",
              "      <td>0</td>\n",
              "      <td>0</td>\n",
              "      <td>0</td>\n",
              "      <td>0</td>\n",
              "      <td>0</td>\n",
              "      <td>0</td>\n",
              "      <td>0</td>\n",
              "      <td>0</td>\n",
              "      <td>0</td>\n",
              "      <td>0</td>\n",
              "      <td>0</td>\n",
              "      <td>0</td>\n",
              "      <td>0</td>\n",
              "      <td>0</td>\n",
              "      <td>0</td>\n",
              "      <td>0</td>\n",
              "      <td>0</td>\n",
              "      <td>0</td>\n",
              "      <td>0</td>\n",
              "      <td>0</td>\n",
              "      <td>0</td>\n",
              "      <td>0</td>\n",
              "      <td>0</td>\n",
              "    </tr>\n",
              "    <tr>\n",
              "      <th>F</th>\n",
              "      <td>0</td>\n",
              "      <td>0</td>\n",
              "      <td>0</td>\n",
              "      <td>0</td>\n",
              "      <td>0</td>\n",
              "      <td>14</td>\n",
              "      <td>0</td>\n",
              "      <td>0</td>\n",
              "      <td>0</td>\n",
              "      <td>0</td>\n",
              "      <td>0</td>\n",
              "      <td>0</td>\n",
              "      <td>0</td>\n",
              "      <td>0</td>\n",
              "      <td>0</td>\n",
              "      <td>0</td>\n",
              "      <td>0</td>\n",
              "      <td>0</td>\n",
              "      <td>0</td>\n",
              "      <td>0</td>\n",
              "      <td>0</td>\n",
              "      <td>0</td>\n",
              "      <td>0</td>\n",
              "      <td>0</td>\n",
              "      <td>0</td>\n",
              "      <td>0</td>\n",
              "      <td>0</td>\n",
              "      <td>0</td>\n",
              "      <td>0</td>\n",
              "    </tr>\n",
              "    <tr>\n",
              "      <th>G</th>\n",
              "      <td>0</td>\n",
              "      <td>0</td>\n",
              "      <td>0</td>\n",
              "      <td>0</td>\n",
              "      <td>0</td>\n",
              "      <td>0</td>\n",
              "      <td>15</td>\n",
              "      <td>0</td>\n",
              "      <td>0</td>\n",
              "      <td>0</td>\n",
              "      <td>0</td>\n",
              "      <td>0</td>\n",
              "      <td>0</td>\n",
              "      <td>0</td>\n",
              "      <td>0</td>\n",
              "      <td>0</td>\n",
              "      <td>0</td>\n",
              "      <td>0</td>\n",
              "      <td>0</td>\n",
              "      <td>0</td>\n",
              "      <td>0</td>\n",
              "      <td>0</td>\n",
              "      <td>0</td>\n",
              "      <td>0</td>\n",
              "      <td>0</td>\n",
              "      <td>0</td>\n",
              "      <td>0</td>\n",
              "      <td>0</td>\n",
              "      <td>0</td>\n",
              "    </tr>\n",
              "    <tr>\n",
              "      <th>H</th>\n",
              "      <td>0</td>\n",
              "      <td>0</td>\n",
              "      <td>0</td>\n",
              "      <td>0</td>\n",
              "      <td>0</td>\n",
              "      <td>0</td>\n",
              "      <td>0</td>\n",
              "      <td>10</td>\n",
              "      <td>0</td>\n",
              "      <td>0</td>\n",
              "      <td>0</td>\n",
              "      <td>0</td>\n",
              "      <td>0</td>\n",
              "      <td>0</td>\n",
              "      <td>0</td>\n",
              "      <td>0</td>\n",
              "      <td>0</td>\n",
              "      <td>0</td>\n",
              "      <td>0</td>\n",
              "      <td>0</td>\n",
              "      <td>0</td>\n",
              "      <td>0</td>\n",
              "      <td>0</td>\n",
              "      <td>0</td>\n",
              "      <td>0</td>\n",
              "      <td>0</td>\n",
              "      <td>0</td>\n",
              "      <td>0</td>\n",
              "      <td>0</td>\n",
              "    </tr>\n",
              "    <tr>\n",
              "      <th>I</th>\n",
              "      <td>0</td>\n",
              "      <td>0</td>\n",
              "      <td>0</td>\n",
              "      <td>0</td>\n",
              "      <td>0</td>\n",
              "      <td>0</td>\n",
              "      <td>0</td>\n",
              "      <td>0</td>\n",
              "      <td>7</td>\n",
              "      <td>0</td>\n",
              "      <td>0</td>\n",
              "      <td>0</td>\n",
              "      <td>0</td>\n",
              "      <td>0</td>\n",
              "      <td>0</td>\n",
              "      <td>0</td>\n",
              "      <td>0</td>\n",
              "      <td>0</td>\n",
              "      <td>0</td>\n",
              "      <td>0</td>\n",
              "      <td>0</td>\n",
              "      <td>0</td>\n",
              "      <td>0</td>\n",
              "      <td>0</td>\n",
              "      <td>0</td>\n",
              "      <td>0</td>\n",
              "      <td>0</td>\n",
              "      <td>0</td>\n",
              "      <td>0</td>\n",
              "    </tr>\n",
              "    <tr>\n",
              "      <th>J</th>\n",
              "      <td>0</td>\n",
              "      <td>0</td>\n",
              "      <td>0</td>\n",
              "      <td>0</td>\n",
              "      <td>0</td>\n",
              "      <td>0</td>\n",
              "      <td>0</td>\n",
              "      <td>0</td>\n",
              "      <td>0</td>\n",
              "      <td>14</td>\n",
              "      <td>0</td>\n",
              "      <td>0</td>\n",
              "      <td>0</td>\n",
              "      <td>0</td>\n",
              "      <td>0</td>\n",
              "      <td>0</td>\n",
              "      <td>0</td>\n",
              "      <td>0</td>\n",
              "      <td>0</td>\n",
              "      <td>0</td>\n",
              "      <td>0</td>\n",
              "      <td>0</td>\n",
              "      <td>0</td>\n",
              "      <td>0</td>\n",
              "      <td>0</td>\n",
              "      <td>0</td>\n",
              "      <td>0</td>\n",
              "      <td>0</td>\n",
              "      <td>0</td>\n",
              "    </tr>\n",
              "    <tr>\n",
              "      <th>K</th>\n",
              "      <td>0</td>\n",
              "      <td>0</td>\n",
              "      <td>0</td>\n",
              "      <td>0</td>\n",
              "      <td>0</td>\n",
              "      <td>0</td>\n",
              "      <td>0</td>\n",
              "      <td>0</td>\n",
              "      <td>0</td>\n",
              "      <td>0</td>\n",
              "      <td>17</td>\n",
              "      <td>0</td>\n",
              "      <td>0</td>\n",
              "      <td>0</td>\n",
              "      <td>0</td>\n",
              "      <td>0</td>\n",
              "      <td>0</td>\n",
              "      <td>0</td>\n",
              "      <td>0</td>\n",
              "      <td>0</td>\n",
              "      <td>0</td>\n",
              "      <td>0</td>\n",
              "      <td>0</td>\n",
              "      <td>0</td>\n",
              "      <td>0</td>\n",
              "      <td>0</td>\n",
              "      <td>0</td>\n",
              "      <td>0</td>\n",
              "      <td>0</td>\n",
              "    </tr>\n",
              "    <tr>\n",
              "      <th>L</th>\n",
              "      <td>0</td>\n",
              "      <td>0</td>\n",
              "      <td>0</td>\n",
              "      <td>0</td>\n",
              "      <td>0</td>\n",
              "      <td>0</td>\n",
              "      <td>0</td>\n",
              "      <td>0</td>\n",
              "      <td>0</td>\n",
              "      <td>0</td>\n",
              "      <td>0</td>\n",
              "      <td>11</td>\n",
              "      <td>0</td>\n",
              "      <td>0</td>\n",
              "      <td>0</td>\n",
              "      <td>0</td>\n",
              "      <td>0</td>\n",
              "      <td>0</td>\n",
              "      <td>0</td>\n",
              "      <td>0</td>\n",
              "      <td>0</td>\n",
              "      <td>0</td>\n",
              "      <td>0</td>\n",
              "      <td>0</td>\n",
              "      <td>0</td>\n",
              "      <td>0</td>\n",
              "      <td>0</td>\n",
              "      <td>0</td>\n",
              "      <td>0</td>\n",
              "    </tr>\n",
              "    <tr>\n",
              "      <th>M</th>\n",
              "      <td>0</td>\n",
              "      <td>0</td>\n",
              "      <td>0</td>\n",
              "      <td>0</td>\n",
              "      <td>0</td>\n",
              "      <td>0</td>\n",
              "      <td>0</td>\n",
              "      <td>0</td>\n",
              "      <td>0</td>\n",
              "      <td>0</td>\n",
              "      <td>0</td>\n",
              "      <td>0</td>\n",
              "      <td>14</td>\n",
              "      <td>0</td>\n",
              "      <td>0</td>\n",
              "      <td>0</td>\n",
              "      <td>0</td>\n",
              "      <td>0</td>\n",
              "      <td>0</td>\n",
              "      <td>0</td>\n",
              "      <td>0</td>\n",
              "      <td>0</td>\n",
              "      <td>0</td>\n",
              "      <td>0</td>\n",
              "      <td>0</td>\n",
              "      <td>0</td>\n",
              "      <td>0</td>\n",
              "      <td>0</td>\n",
              "      <td>0</td>\n",
              "    </tr>\n",
              "    <tr>\n",
              "      <th>N</th>\n",
              "      <td>0</td>\n",
              "      <td>0</td>\n",
              "      <td>0</td>\n",
              "      <td>0</td>\n",
              "      <td>0</td>\n",
              "      <td>0</td>\n",
              "      <td>0</td>\n",
              "      <td>0</td>\n",
              "      <td>0</td>\n",
              "      <td>0</td>\n",
              "      <td>0</td>\n",
              "      <td>0</td>\n",
              "      <td>0</td>\n",
              "      <td>9</td>\n",
              "      <td>0</td>\n",
              "      <td>0</td>\n",
              "      <td>0</td>\n",
              "      <td>0</td>\n",
              "      <td>0</td>\n",
              "      <td>0</td>\n",
              "      <td>0</td>\n",
              "      <td>0</td>\n",
              "      <td>0</td>\n",
              "      <td>0</td>\n",
              "      <td>0</td>\n",
              "      <td>0</td>\n",
              "      <td>0</td>\n",
              "      <td>0</td>\n",
              "      <td>0</td>\n",
              "    </tr>\n",
              "    <tr>\n",
              "      <th>O</th>\n",
              "      <td>0</td>\n",
              "      <td>0</td>\n",
              "      <td>0</td>\n",
              "      <td>0</td>\n",
              "      <td>0</td>\n",
              "      <td>0</td>\n",
              "      <td>0</td>\n",
              "      <td>0</td>\n",
              "      <td>0</td>\n",
              "      <td>0</td>\n",
              "      <td>0</td>\n",
              "      <td>0</td>\n",
              "      <td>0</td>\n",
              "      <td>0</td>\n",
              "      <td>11</td>\n",
              "      <td>0</td>\n",
              "      <td>0</td>\n",
              "      <td>0</td>\n",
              "      <td>0</td>\n",
              "      <td>0</td>\n",
              "      <td>0</td>\n",
              "      <td>0</td>\n",
              "      <td>0</td>\n",
              "      <td>0</td>\n",
              "      <td>0</td>\n",
              "      <td>0</td>\n",
              "      <td>0</td>\n",
              "      <td>0</td>\n",
              "      <td>0</td>\n",
              "    </tr>\n",
              "    <tr>\n",
              "      <th>P</th>\n",
              "      <td>0</td>\n",
              "      <td>0</td>\n",
              "      <td>0</td>\n",
              "      <td>0</td>\n",
              "      <td>0</td>\n",
              "      <td>0</td>\n",
              "      <td>0</td>\n",
              "      <td>0</td>\n",
              "      <td>0</td>\n",
              "      <td>0</td>\n",
              "      <td>0</td>\n",
              "      <td>0</td>\n",
              "      <td>0</td>\n",
              "      <td>0</td>\n",
              "      <td>0</td>\n",
              "      <td>11</td>\n",
              "      <td>0</td>\n",
              "      <td>0</td>\n",
              "      <td>0</td>\n",
              "      <td>0</td>\n",
              "      <td>0</td>\n",
              "      <td>0</td>\n",
              "      <td>0</td>\n",
              "      <td>0</td>\n",
              "      <td>0</td>\n",
              "      <td>0</td>\n",
              "      <td>0</td>\n",
              "      <td>0</td>\n",
              "      <td>0</td>\n",
              "    </tr>\n",
              "    <tr>\n",
              "      <th>Q</th>\n",
              "      <td>0</td>\n",
              "      <td>0</td>\n",
              "      <td>0</td>\n",
              "      <td>0</td>\n",
              "      <td>0</td>\n",
              "      <td>0</td>\n",
              "      <td>0</td>\n",
              "      <td>0</td>\n",
              "      <td>0</td>\n",
              "      <td>0</td>\n",
              "      <td>0</td>\n",
              "      <td>0</td>\n",
              "      <td>0</td>\n",
              "      <td>0</td>\n",
              "      <td>0</td>\n",
              "      <td>0</td>\n",
              "      <td>10</td>\n",
              "      <td>0</td>\n",
              "      <td>0</td>\n",
              "      <td>0</td>\n",
              "      <td>0</td>\n",
              "      <td>0</td>\n",
              "      <td>0</td>\n",
              "      <td>0</td>\n",
              "      <td>0</td>\n",
              "      <td>0</td>\n",
              "      <td>1</td>\n",
              "      <td>0</td>\n",
              "      <td>0</td>\n",
              "    </tr>\n",
              "    <tr>\n",
              "      <th>R</th>\n",
              "      <td>0</td>\n",
              "      <td>0</td>\n",
              "      <td>0</td>\n",
              "      <td>0</td>\n",
              "      <td>0</td>\n",
              "      <td>0</td>\n",
              "      <td>0</td>\n",
              "      <td>0</td>\n",
              "      <td>0</td>\n",
              "      <td>0</td>\n",
              "      <td>0</td>\n",
              "      <td>0</td>\n",
              "      <td>0</td>\n",
              "      <td>0</td>\n",
              "      <td>0</td>\n",
              "      <td>0</td>\n",
              "      <td>0</td>\n",
              "      <td>16</td>\n",
              "      <td>0</td>\n",
              "      <td>0</td>\n",
              "      <td>0</td>\n",
              "      <td>0</td>\n",
              "      <td>0</td>\n",
              "      <td>0</td>\n",
              "      <td>0</td>\n",
              "      <td>0</td>\n",
              "      <td>0</td>\n",
              "      <td>0</td>\n",
              "      <td>0</td>\n",
              "    </tr>\n",
              "    <tr>\n",
              "      <th>S</th>\n",
              "      <td>0</td>\n",
              "      <td>0</td>\n",
              "      <td>0</td>\n",
              "      <td>0</td>\n",
              "      <td>3</td>\n",
              "      <td>0</td>\n",
              "      <td>0</td>\n",
              "      <td>0</td>\n",
              "      <td>0</td>\n",
              "      <td>0</td>\n",
              "      <td>0</td>\n",
              "      <td>0</td>\n",
              "      <td>0</td>\n",
              "      <td>0</td>\n",
              "      <td>0</td>\n",
              "      <td>0</td>\n",
              "      <td>0</td>\n",
              "      <td>0</td>\n",
              "      <td>4</td>\n",
              "      <td>0</td>\n",
              "      <td>0</td>\n",
              "      <td>0</td>\n",
              "      <td>0</td>\n",
              "      <td>1</td>\n",
              "      <td>0</td>\n",
              "      <td>0</td>\n",
              "      <td>0</td>\n",
              "      <td>0</td>\n",
              "      <td>0</td>\n",
              "    </tr>\n",
              "    <tr>\n",
              "      <th>T</th>\n",
              "      <td>0</td>\n",
              "      <td>0</td>\n",
              "      <td>0</td>\n",
              "      <td>0</td>\n",
              "      <td>0</td>\n",
              "      <td>0</td>\n",
              "      <td>0</td>\n",
              "      <td>0</td>\n",
              "      <td>0</td>\n",
              "      <td>0</td>\n",
              "      <td>0</td>\n",
              "      <td>0</td>\n",
              "      <td>0</td>\n",
              "      <td>0</td>\n",
              "      <td>0</td>\n",
              "      <td>0</td>\n",
              "      <td>0</td>\n",
              "      <td>0</td>\n",
              "      <td>0</td>\n",
              "      <td>12</td>\n",
              "      <td>0</td>\n",
              "      <td>0</td>\n",
              "      <td>0</td>\n",
              "      <td>0</td>\n",
              "      <td>0</td>\n",
              "      <td>0</td>\n",
              "      <td>0</td>\n",
              "      <td>0</td>\n",
              "      <td>0</td>\n",
              "    </tr>\n",
              "    <tr>\n",
              "      <th>U</th>\n",
              "      <td>0</td>\n",
              "      <td>0</td>\n",
              "      <td>0</td>\n",
              "      <td>0</td>\n",
              "      <td>0</td>\n",
              "      <td>0</td>\n",
              "      <td>0</td>\n",
              "      <td>0</td>\n",
              "      <td>0</td>\n",
              "      <td>0</td>\n",
              "      <td>0</td>\n",
              "      <td>0</td>\n",
              "      <td>0</td>\n",
              "      <td>0</td>\n",
              "      <td>0</td>\n",
              "      <td>0</td>\n",
              "      <td>0</td>\n",
              "      <td>0</td>\n",
              "      <td>0</td>\n",
              "      <td>0</td>\n",
              "      <td>16</td>\n",
              "      <td>0</td>\n",
              "      <td>0</td>\n",
              "      <td>0</td>\n",
              "      <td>0</td>\n",
              "      <td>0</td>\n",
              "      <td>0</td>\n",
              "      <td>0</td>\n",
              "      <td>0</td>\n",
              "    </tr>\n",
              "    <tr>\n",
              "      <th>V</th>\n",
              "      <td>0</td>\n",
              "      <td>0</td>\n",
              "      <td>0</td>\n",
              "      <td>0</td>\n",
              "      <td>0</td>\n",
              "      <td>0</td>\n",
              "      <td>0</td>\n",
              "      <td>0</td>\n",
              "      <td>0</td>\n",
              "      <td>0</td>\n",
              "      <td>0</td>\n",
              "      <td>0</td>\n",
              "      <td>0</td>\n",
              "      <td>0</td>\n",
              "      <td>0</td>\n",
              "      <td>0</td>\n",
              "      <td>0</td>\n",
              "      <td>0</td>\n",
              "      <td>0</td>\n",
              "      <td>0</td>\n",
              "      <td>0</td>\n",
              "      <td>10</td>\n",
              "      <td>0</td>\n",
              "      <td>0</td>\n",
              "      <td>0</td>\n",
              "      <td>0</td>\n",
              "      <td>0</td>\n",
              "      <td>0</td>\n",
              "      <td>0</td>\n",
              "    </tr>\n",
              "    <tr>\n",
              "      <th>W</th>\n",
              "      <td>0</td>\n",
              "      <td>0</td>\n",
              "      <td>0</td>\n",
              "      <td>0</td>\n",
              "      <td>0</td>\n",
              "      <td>0</td>\n",
              "      <td>0</td>\n",
              "      <td>0</td>\n",
              "      <td>0</td>\n",
              "      <td>0</td>\n",
              "      <td>0</td>\n",
              "      <td>0</td>\n",
              "      <td>0</td>\n",
              "      <td>0</td>\n",
              "      <td>0</td>\n",
              "      <td>0</td>\n",
              "      <td>0</td>\n",
              "      <td>0</td>\n",
              "      <td>0</td>\n",
              "      <td>0</td>\n",
              "      <td>0</td>\n",
              "      <td>0</td>\n",
              "      <td>12</td>\n",
              "      <td>0</td>\n",
              "      <td>0</td>\n",
              "      <td>0</td>\n",
              "      <td>0</td>\n",
              "      <td>0</td>\n",
              "      <td>0</td>\n",
              "    </tr>\n",
              "    <tr>\n",
              "      <th>X</th>\n",
              "      <td>0</td>\n",
              "      <td>0</td>\n",
              "      <td>0</td>\n",
              "      <td>0</td>\n",
              "      <td>0</td>\n",
              "      <td>0</td>\n",
              "      <td>0</td>\n",
              "      <td>0</td>\n",
              "      <td>0</td>\n",
              "      <td>0</td>\n",
              "      <td>0</td>\n",
              "      <td>0</td>\n",
              "      <td>0</td>\n",
              "      <td>0</td>\n",
              "      <td>0</td>\n",
              "      <td>0</td>\n",
              "      <td>0</td>\n",
              "      <td>0</td>\n",
              "      <td>0</td>\n",
              "      <td>1</td>\n",
              "      <td>0</td>\n",
              "      <td>0</td>\n",
              "      <td>0</td>\n",
              "      <td>14</td>\n",
              "      <td>0</td>\n",
              "      <td>0</td>\n",
              "      <td>0</td>\n",
              "      <td>0</td>\n",
              "      <td>0</td>\n",
              "    </tr>\n",
              "    <tr>\n",
              "      <th>Y</th>\n",
              "      <td>0</td>\n",
              "      <td>0</td>\n",
              "      <td>0</td>\n",
              "      <td>0</td>\n",
              "      <td>0</td>\n",
              "      <td>0</td>\n",
              "      <td>0</td>\n",
              "      <td>0</td>\n",
              "      <td>1</td>\n",
              "      <td>0</td>\n",
              "      <td>0</td>\n",
              "      <td>0</td>\n",
              "      <td>0</td>\n",
              "      <td>0</td>\n",
              "      <td>0</td>\n",
              "      <td>0</td>\n",
              "      <td>0</td>\n",
              "      <td>0</td>\n",
              "      <td>0</td>\n",
              "      <td>0</td>\n",
              "      <td>0</td>\n",
              "      <td>0</td>\n",
              "      <td>0</td>\n",
              "      <td>0</td>\n",
              "      <td>14</td>\n",
              "      <td>0</td>\n",
              "      <td>0</td>\n",
              "      <td>0</td>\n",
              "      <td>0</td>\n",
              "    </tr>\n",
              "    <tr>\n",
              "      <th>Z</th>\n",
              "      <td>0</td>\n",
              "      <td>0</td>\n",
              "      <td>0</td>\n",
              "      <td>0</td>\n",
              "      <td>0</td>\n",
              "      <td>0</td>\n",
              "      <td>0</td>\n",
              "      <td>0</td>\n",
              "      <td>0</td>\n",
              "      <td>0</td>\n",
              "      <td>0</td>\n",
              "      <td>0</td>\n",
              "      <td>0</td>\n",
              "      <td>0</td>\n",
              "      <td>0</td>\n",
              "      <td>0</td>\n",
              "      <td>0</td>\n",
              "      <td>0</td>\n",
              "      <td>0</td>\n",
              "      <td>0</td>\n",
              "      <td>0</td>\n",
              "      <td>0</td>\n",
              "      <td>0</td>\n",
              "      <td>0</td>\n",
              "      <td>0</td>\n",
              "      <td>16</td>\n",
              "      <td>0</td>\n",
              "      <td>0</td>\n",
              "      <td>0</td>\n",
              "    </tr>\n",
              "    <tr>\n",
              "      <th>del</th>\n",
              "      <td>0</td>\n",
              "      <td>0</td>\n",
              "      <td>0</td>\n",
              "      <td>0</td>\n",
              "      <td>0</td>\n",
              "      <td>0</td>\n",
              "      <td>0</td>\n",
              "      <td>0</td>\n",
              "      <td>0</td>\n",
              "      <td>0</td>\n",
              "      <td>0</td>\n",
              "      <td>0</td>\n",
              "      <td>0</td>\n",
              "      <td>0</td>\n",
              "      <td>0</td>\n",
              "      <td>0</td>\n",
              "      <td>0</td>\n",
              "      <td>0</td>\n",
              "      <td>0</td>\n",
              "      <td>0</td>\n",
              "      <td>0</td>\n",
              "      <td>0</td>\n",
              "      <td>0</td>\n",
              "      <td>0</td>\n",
              "      <td>0</td>\n",
              "      <td>0</td>\n",
              "      <td>17</td>\n",
              "      <td>0</td>\n",
              "      <td>0</td>\n",
              "    </tr>\n",
              "    <tr>\n",
              "      <th>nothing</th>\n",
              "      <td>0</td>\n",
              "      <td>0</td>\n",
              "      <td>0</td>\n",
              "      <td>0</td>\n",
              "      <td>0</td>\n",
              "      <td>0</td>\n",
              "      <td>0</td>\n",
              "      <td>0</td>\n",
              "      <td>0</td>\n",
              "      <td>0</td>\n",
              "      <td>0</td>\n",
              "      <td>0</td>\n",
              "      <td>0</td>\n",
              "      <td>0</td>\n",
              "      <td>0</td>\n",
              "      <td>0</td>\n",
              "      <td>0</td>\n",
              "      <td>0</td>\n",
              "      <td>0</td>\n",
              "      <td>0</td>\n",
              "      <td>0</td>\n",
              "      <td>0</td>\n",
              "      <td>0</td>\n",
              "      <td>0</td>\n",
              "      <td>0</td>\n",
              "      <td>0</td>\n",
              "      <td>0</td>\n",
              "      <td>6</td>\n",
              "      <td>0</td>\n",
              "    </tr>\n",
              "    <tr>\n",
              "      <th>space</th>\n",
              "      <td>0</td>\n",
              "      <td>0</td>\n",
              "      <td>0</td>\n",
              "      <td>0</td>\n",
              "      <td>0</td>\n",
              "      <td>0</td>\n",
              "      <td>0</td>\n",
              "      <td>0</td>\n",
              "      <td>0</td>\n",
              "      <td>0</td>\n",
              "      <td>0</td>\n",
              "      <td>0</td>\n",
              "      <td>0</td>\n",
              "      <td>0</td>\n",
              "      <td>0</td>\n",
              "      <td>0</td>\n",
              "      <td>0</td>\n",
              "      <td>0</td>\n",
              "      <td>0</td>\n",
              "      <td>0</td>\n",
              "      <td>0</td>\n",
              "      <td>0</td>\n",
              "      <td>0</td>\n",
              "      <td>0</td>\n",
              "      <td>0</td>\n",
              "      <td>0</td>\n",
              "      <td>0</td>\n",
              "      <td>0</td>\n",
              "      <td>11</td>\n",
              "    </tr>\n",
              "  </tbody>\n",
              "</table>\n",
              "</div>"
            ],
            "text/plain": [
              "          A   B   C   D   E   F   G  ...   W   X   Y   Z  del  nothing  space\n",
              "A        14   0   0   0   0   0   0  ...   0   0   0   0    0        0      0\n",
              "B         0  12   0   0   0   0   0  ...   0   0   0   0    0        0      0\n",
              "C         0   0  15   0   0   0   0  ...   0   0   0   0    0        0      0\n",
              "D         0   0   0  12   0   0   0  ...   0   0   0   0    0        0      0\n",
              "E         0   0   0   0  12   0   0  ...   0   0   0   0    0        0      0\n",
              "F         0   0   0   0   0  14   0  ...   0   0   0   0    0        0      0\n",
              "G         0   0   0   0   0   0  15  ...   0   0   0   0    0        0      0\n",
              "H         0   0   0   0   0   0   0  ...   0   0   0   0    0        0      0\n",
              "I         0   0   0   0   0   0   0  ...   0   0   0   0    0        0      0\n",
              "J         0   0   0   0   0   0   0  ...   0   0   0   0    0        0      0\n",
              "K         0   0   0   0   0   0   0  ...   0   0   0   0    0        0      0\n",
              "L         0   0   0   0   0   0   0  ...   0   0   0   0    0        0      0\n",
              "M         0   0   0   0   0   0   0  ...   0   0   0   0    0        0      0\n",
              "N         0   0   0   0   0   0   0  ...   0   0   0   0    0        0      0\n",
              "O         0   0   0   0   0   0   0  ...   0   0   0   0    0        0      0\n",
              "P         0   0   0   0   0   0   0  ...   0   0   0   0    0        0      0\n",
              "Q         0   0   0   0   0   0   0  ...   0   0   0   0    1        0      0\n",
              "R         0   0   0   0   0   0   0  ...   0   0   0   0    0        0      0\n",
              "S         0   0   0   0   3   0   0  ...   0   1   0   0    0        0      0\n",
              "T         0   0   0   0   0   0   0  ...   0   0   0   0    0        0      0\n",
              "U         0   0   0   0   0   0   0  ...   0   0   0   0    0        0      0\n",
              "V         0   0   0   0   0   0   0  ...   0   0   0   0    0        0      0\n",
              "W         0   0   0   0   0   0   0  ...  12   0   0   0    0        0      0\n",
              "X         0   0   0   0   0   0   0  ...   0  14   0   0    0        0      0\n",
              "Y         0   0   0   0   0   0   0  ...   0   0  14   0    0        0      0\n",
              "Z         0   0   0   0   0   0   0  ...   0   0   0  16    0        0      0\n",
              "del       0   0   0   0   0   0   0  ...   0   0   0   0   17        0      0\n",
              "nothing   0   0   0   0   0   0   0  ...   0   0   0   0    0        6      0\n",
              "space     0   0   0   0   0   0   0  ...   0   0   0   0    0        0     11\n",
              "\n",
              "[29 rows x 29 columns]"
            ]
          },
          "metadata": {
            "tags": []
          },
          "execution_count": 47
        }
      ]
    },
    {
      "cell_type": "code",
      "metadata": {
        "colab": {
          "base_uri": "https://localhost:8080/",
          "height": 474
        },
        "id": "DfKaUa92D9mp",
        "outputId": "733a2610-0259-4d8e-b28a-a2db46914fec"
      },
      "source": [
        "plt.figure(figsize = (10,7))\n",
        "sn.heatmap(df_cmVT, annot=True)"
      ],
      "execution_count": 48,
      "outputs": [
        {
          "output_type": "execute_result",
          "data": {
            "text/plain": [
              "<matplotlib.axes._subplots.AxesSubplot at 0x7fa7a03d4a10>"
            ]
          },
          "metadata": {
            "tags": []
          },
          "execution_count": 48
        },
        {
          "output_type": "display_data",
          "data": {
            "image/png": "[encoded data removed]",
            "text/plain": [
              "<Figure size 720x504 with 2 Axes>"
            ]
          },
          "metadata": {
            "tags": [],
            "needs_background": "light"
          }
        }
      ]
    },
    {
      "cell_type": "code",
      "metadata": {
        "colab": {
          "base_uri": "https://localhost:8080/"
        },
        "id": "q9FuKdJMENqr",
        "outputId": "204c2f2b-81a5-45e0-8b78-d0fc13db8b02"
      },
      "source": [
        "# F1 Score\n",
        "\n",
        "f1_score(y_test_Label, y_valTest_predcited, average='macro')"
      ],
      "execution_count": 49,
      "outputs": [
        {
          "output_type": "execute_result",
          "data": {
            "text/plain": [
              "0.9748809995658985"
            ]
          },
          "metadata": {
            "tags": []
          },
          "execution_count": 49
        }
      ]
    },
    {
      "cell_type": "code",
      "metadata": {
        "id": "8xZD7cRVh5m3",
        "colab": {
          "base_uri": "https://localhost:8080/"
        },
        "outputId": "6e978e84-3302-45aa-e289-61c36196f30d"
      },
      "source": [
        "precision_score(y_test_Label, y_valTest_predcited, average='macro')"
      ],
      "execution_count": 50,
      "outputs": [
        {
          "output_type": "execute_result",
          "data": {
            "text/plain": [
              "0.9819260241674035"
            ]
          },
          "metadata": {
            "tags": []
          },
          "execution_count": 50
        }
      ]
    },
    {
      "cell_type": "code",
      "metadata": {
        "id": "OP0_pfWph5q9",
        "colab": {
          "base_uri": "https://localhost:8080/"
        },
        "outputId": "631052e0-0189-4df2-dcf5-565a1f94dac3"
      },
      "source": [
        "recall_score(y_test_Label, y_valTest_predcited, average='macro')"
      ],
      "execution_count": 51,
      "outputs": [
        {
          "output_type": "execute_result",
          "data": {
            "text/plain": [
              "0.9750261233019855"
            ]
          },
          "metadata": {
            "tags": []
          },
          "execution_count": 51
        }
      ]
    },
    {
      "cell_type": "code",
      "metadata": {
        "id": "yHseM1PcENtQ"
      },
      "source": [
        "# Compute ROC curve and ROC area for each class\n",
        "fpr = dict()\n",
        "tpr = dict()\n",
        "roc_auc = dict()\n",
        "for i in range(nos_of_Classes):\n",
        "    fpr[i], tpr[i], _ = roc_curve(y_test_oneHotEncoding[:, i], y_valTest_prob[:, i])\n",
        "    roc_auc[i] = auc(fpr[i], tpr[i])\n",
        "\n",
        "# Compute micro-average ROC curve and ROC area\n",
        "fpr[\"micro\"], tpr[\"micro\"], _ = roc_curve(y_test_oneHotEncoding.ravel(), y_valTest_prob.ravel())\n",
        "roc_auc[\"micro\"] = auc(fpr[\"micro\"], tpr[\"micro\"])"
      ],
      "execution_count": 52,
      "outputs": []
    },
    {
      "cell_type": "code",
      "metadata": {
        "colab": {
          "base_uri": "https://localhost:8080/",
          "height": 295
        },
        "id": "J6dhqQO8ENvj",
        "outputId": "4cf09b0e-6cff-4f0b-e889-313c44fa7d8d"
      },
      "source": [
        "plt.figure()\n",
        "lw = 2\n",
        "plt.plot(fpr[2], tpr[2], color='darkorange',\n",
        "         lw=lw, label='ROC curve (area = %0.2f)' % roc_auc[2])\n",
        "plt.plot([0, 1], [0, 1], color='navy', lw=lw, linestyle='--')\n",
        "plt.xlim([0.0, 1.0])\n",
        "plt.ylim([0.0, 1.05])\n",
        "plt.xlabel('False Positive Rate')\n",
        "plt.ylabel('True Positive Rate')\n",
        "plt.title('Receiver operating characteristic example')\n",
        "plt.legend(loc=\"lower right\")\n",
        "plt.show()"
      ],
      "execution_count": 53,
      "outputs": [
        {
          "output_type": "display_data",
          "data": {
            "image/png": "[encoded data removed]",
            "text/plain": [
              "<Figure size 432x288 with 1 Axes>"
            ]
          },
          "metadata": {
            "tags": [],
            "needs_background": "light"
          }
        }
      ]
    },
    {
      "cell_type": "code",
      "metadata": {
        "id": "DxZJnQx5ET6T"
      },
      "source": [
        "cmVT = confusion_matrix(y_test_Label, y_valTest_predcited)"
      ],
      "execution_count": 54,
      "outputs": []
    },
    {
      "cell_type": "code",
      "metadata": {
        "id": "I8dNcWdzET86"
      },
      "source": [
        ""
      ],
      "execution_count": null,
      "outputs": []
    },
    {
      "cell_type": "code",
      "metadata": {
        "id": "MlgkBsngEUA6"
      },
      "source": [
        "import gc"
      ],
      "execution_count": 56,
      "outputs": []
    },
    {
      "cell_type": "markdown",
      "metadata": {
        "id": "0m8L6yUXEUWM"
      },
      "source": [
        "# WOWOWOWW"
      ]
    },
    {
      "cell_type": "code",
      "metadata": {
        "colab": {
          "base_uri": "https://localhost:8080/",
          "height": 181
        },
        "id": "VGSzfKqqcfBN",
        "outputId": "01c9803b-de8a-41ac-c98b-012246c64f87"
      },
      "source": [
        "del images\n",
        "gc.collect()"
      ],
      "execution_count": 57,
      "outputs": [
        {
          "output_type": "error",
          "ename": "NameError",
          "evalue": "ignored",
          "traceback": [
            "\u001b[0;31m---------------------------------------------------------------------------\u001b[0m",
            "\u001b[0;31mNameError\u001b[0m                                 Traceback (most recent call last)",
            "\u001b[0;32m<ipython-input-57-5bef06350d71>\u001b[0m in \u001b[0;36m<module>\u001b[0;34m()\u001b[0m\n\u001b[0;32m----> 1\u001b[0;31m \u001b[0;32mdel\u001b[0m \u001b[0mimages\u001b[0m\u001b[0;34m\u001b[0m\u001b[0;34m\u001b[0m\u001b[0m\n\u001b[0m\u001b[1;32m      2\u001b[0m \u001b[0mgc\u001b[0m\u001b[0;34m.\u001b[0m\u001b[0mcollect\u001b[0m\u001b[0;34m(\u001b[0m\u001b[0;34m)\u001b[0m\u001b[0;34m\u001b[0m\u001b[0;34m\u001b[0m\u001b[0m\n",
            "\u001b[0;31mNameError\u001b[0m: name 'images' is not defined"
          ]
        }
      ]
    },
    {
      "cell_type": "code",
      "metadata": {
        "colab": {
          "base_uri": "https://localhost:8080/"
        },
        "id": "PpvZ_DnqcfOL",
        "outputId": "0a721021-7a90-4c1d-9ff6-8737fc618063"
      },
      "source": [
        "del X_train\n",
        "gc.collect()"
      ],
      "execution_count": null,
      "outputs": [
        {
          "output_type": "execute_result",
          "data": {
            "text/plain": [
              "44"
            ]
          },
          "metadata": {
            "tags": []
          },
          "execution_count": 61
        }
      ]
    },
    {
      "cell_type": "code",
      "metadata": {
        "colab": {
          "base_uri": "https://localhost:8080/"
        },
        "id": "wpiFEyG8cfVa",
        "outputId": "70025d1d-9cba-4595-93b9-29a9ee0654d5"
      },
      "source": [
        "del X_test\n",
        "gc.collect()"
      ],
      "execution_count": null,
      "outputs": [
        {
          "output_type": "execute_result",
          "data": {
            "text/plain": [
              "141"
            ]
          },
          "metadata": {
            "tags": []
          },
          "execution_count": 62
        }
      ]
    },
    {
      "cell_type": "code",
      "metadata": {
        "id": "bueaqu__cfXX"
      },
      "source": [
        ""
      ],
      "execution_count": null,
      "outputs": []
    },
    {
      "cell_type": "code",
      "metadata": {
        "id": "ZXXP7TJFcmXG"
      },
      "source": [
        ""
      ],
      "execution_count": null,
      "outputs": []
    },
    {
      "cell_type": "code",
      "metadata": {
        "id": "eECg83BQcmaT"
      },
      "source": [
        ""
      ],
      "execution_count": null,
      "outputs": []
    },
    {
      "cell_type": "code",
      "metadata": {
        "id": "OSbHmeWLENzZ"
      },
      "source": [
        "# def load_imagesTest(folderPath):\n",
        "#   images = []\n",
        "#   imageLabel = []\n",
        "\n",
        "#   classLabels = []\n",
        "\n",
        "#   for filename in tqdm(sorted(list(os.listdir(folderPath)))):\n",
        "#     if '.DS_Store' not in filename:\n",
        "#         img = cv2.imread(os.path.join(folderPath,filename))\n",
        "#         if img is not None:\n",
        "#             img = img/255\n",
        "#             images.append(img)\n",
        "#             imageLabel.append(filename.split('_')[0])\n",
        "          \n",
        "#   return images, imageLabel, classLabels"
      ],
      "execution_count": null,
      "outputs": []
    },
    {
      "cell_type": "code",
      "metadata": {
        "id": "7-TP3LzHalGS"
      },
      "source": [
        "def load_imagesTest(folderPath):\n",
        "  images = []\n",
        "  imageLabel = []\n",
        "\n",
        "  classLabels = []\n",
        "\n",
        "  # using sorted to organise the foldernames in alphabetic order\n",
        "  folderList = list(sorted(os.listdir(folderPath)))\n",
        "  # print(folderList)\n",
        "  for folderName in tqdm(folderList):\n",
        "    k = 0\n",
        "    m = 0\n",
        "    if '.DS_Store' not in folderName:\n",
        "      classLabels.append(folderName)\n",
        "      subFolder = os.path.join(folderPath, folderName)\n",
        "      for filename in (list(sorted(os.listdir(subFolder)))):\n",
        "        if '.DS_Store' not in filename:\n",
        "          img = cv2.imread(os.path.join(subFolder,filename))\n",
        "          # img = img/255\n",
        "          if img is not None and m > 40:\n",
        "              img = img/255\n",
        "              images.append(img)\n",
        "              imageLabel.append(folderName)\n",
        "              k = k + 1;\n",
        "          m = m + 1    \n",
        "          if k == 50:\n",
        "            break\n",
        "          \n",
        "\n",
        "  return images, imageLabel, classLabels"
      ],
      "execution_count": 58,
      "outputs": []
    },
    {
      "cell_type": "code",
      "metadata": {
        "id": "8ffUMdyAEN0t"
      },
      "source": [
        "testDatasetFolderPath = '/content/asl_alphabet_train/asl_alphabet_train/'"
      ],
      "execution_count": 59,
      "outputs": []
    },
    {
      "cell_type": "code",
      "metadata": {
        "colab": {
          "base_uri": "https://localhost:8080/"
        },
        "id": "24XsD83cD9pQ",
        "outputId": "7fb68dd1-8b4a-4208-f6c8-3703cf874c2e"
      },
      "source": [
        "testImages, testImageLabel, testClassLabels = load_imagesTest(testDatasetFolderPath)"
      ],
      "execution_count": 60,
      "outputs": [
        {
          "output_type": "stream",
          "text": [
            "100%|██████████| 29/29 [00:02<00:00, 10.02it/s]\n"
          ],
          "name": "stderr"
        }
      ]
    },
    {
      "cell_type": "code",
      "metadata": {
        "id": "tE-wIJSjEY2b"
      },
      "source": [
        "predictTestLabelsProb = model.predict([np.array(testImages),np.array(testImages)])"
      ],
      "execution_count": 61,
      "outputs": []
    },
    {
      "cell_type": "code",
      "metadata": {
        "colab": {
          "base_uri": "https://localhost:8080/"
        },
        "id": "vgbjeooRdCOr",
        "outputId": "a432c2cf-8e09-4bdf-975e-3ffbbfff3612"
      },
      "source": [
        "predictTestLabelsProb"
      ],
      "execution_count": 62,
      "outputs": [
        {
          "output_type": "execute_result",
          "data": {
            "text/plain": [
              "array([[9.99620438e-01, 2.54024087e-07, 1.84843891e-08, ...,\n",
              "        7.77198583e-11, 7.18879600e-13, 2.42483898e-11],\n",
              "       [9.99675512e-01, 3.14247870e-07, 2.56038657e-08, ...,\n",
              "        7.09870981e-11, 5.18807599e-13, 2.50254123e-11],\n",
              "       [9.99803603e-01, 1.65744520e-08, 4.84272578e-09, ...,\n",
              "        2.24050622e-11, 1.20342104e-13, 2.11802208e-11],\n",
              "       ...,\n",
              "       [4.35100810e-06, 1.08213326e-05, 3.27830063e-03, ...,\n",
              "        4.11299542e-02, 2.27104715e-06, 1.34763131e-02],\n",
              "       [1.47081937e-05, 1.22735555e-05, 4.82299738e-03, ...,\n",
              "        5.75562827e-02, 1.11366387e-06, 9.65335686e-03],\n",
              "       [4.43823955e-09, 2.24864763e-07, 5.19539113e-04, ...,\n",
              "        1.36460832e-04, 6.07293715e-10, 9.98457432e-01]], dtype=float32)"
            ]
          },
          "metadata": {
            "tags": []
          },
          "execution_count": 62
        }
      ]
    },
    {
      "cell_type": "code",
      "metadata": {
        "id": "GThVSX7hEY47"
      },
      "source": [
        "y_classesPredicted = predictTestLabelsProb.argmax(axis=-1)"
      ],
      "execution_count": 63,
      "outputs": []
    },
    {
      "cell_type": "code",
      "metadata": {
        "id": "XWYW8W2zEY7h"
      },
      "source": [
        "\n",
        "y_classes = []\n",
        "\n",
        "for i in testImageLabel:\n",
        "  if(i in classLabels):\n",
        "    y_classes.append(classLabels.index(i))"
      ],
      "execution_count": 64,
      "outputs": []
    },
    {
      "cell_type": "code",
      "metadata": {
        "colab": {
          "base_uri": "https://localhost:8080/"
        },
        "id": "Xz53blSzEY-n",
        "outputId": "821b53bd-6001-4c8e-c3ab-e2d48c1e2079"
      },
      "source": [
        "print(y_classes)\n",
        "print(y_classesPredicted[0:20])"
      ],
      "execution_count": 65,
      "outputs": [
        {
          "output_type": "stream",
          "text": [
            "[0, 0, 0, 0, 0, 0, 0, 0, 0, 0, 0, 0, 0, 0, 0, 0, 0, 0, 0, 0, 0, 0, 0, 0, 0, 0, 0, 0, 0, 0, 0, 0, 0, 0, 0, 0, 0, 0, 0, 0, 0, 0, 0, 0, 0, 0, 0, 0, 0, 0, 1, 1, 1, 1, 1, 1, 1, 1, 1, 1, 1, 1, 1, 1, 1, 1, 1, 1, 1, 1, 1, 1, 1, 1, 1, 1, 1, 1, 1, 1, 1, 1, 1, 1, 1, 1, 1, 1, 1, 1, 1, 1, 1, 1, 1, 1, 1, 1, 1, 1, 2, 2, 2, 2, 2, 2, 2, 2, 2, 2, 2, 2, 2, 2, 2, 2, 2, 2, 2, 2, 2, 2, 2, 2, 2, 2, 2, 2, 2, 2, 2, 2, 2, 2, 2, 2, 2, 2, 2, 2, 2, 2, 2, 2, 2, 2, 2, 2, 2, 2, 3, 3, 3, 3, 3, 3, 3, 3, 3, 3, 3, 3, 3, 3, 3, 3, 3, 3, 3, 3, 3, 3, 3, 3, 3, 3, 3, 3, 3, 3, 3, 3, 3, 3, 3, 3, 3, 3, 3, 3, 3, 3, 3, 3, 3, 3, 3, 3, 3, 3, 4, 4, 4, 4, 4, 4, 4, 4, 4, 4, 4, 4, 4, 4, 4, 4, 4, 4, 4, 4, 4, 4, 4, 4, 4, 4, 4, 4, 4, 4, 4, 4, 4, 4, 4, 4, 4, 4, 4, 4, 4, 4, 4, 4, 4, 4, 4, 4, 4, 4, 5, 5, 5, 5, 5, 5, 5, 5, 5, 5, 5, 5, 5, 5, 5, 5, 5, 5, 5, 5, 5, 5, 5, 5, 5, 5, 5, 5, 5, 5, 5, 5, 5, 5, 5, 5, 5, 5, 5, 5, 5, 5, 5, 5, 5, 5, 5, 5, 5, 5, 6, 6, 6, 6, 6, 6, 6, 6, 6, 6, 6, 6, 6, 6, 6, 6, 6, 6, 6, 6, 6, 6, 6, 6, 6, 6, 6, 6, 6, 6, 6, 6, 6, 6, 6, 6, 6, 6, 6, 6, 6, 6, 6, 6, 6, 6, 6, 6, 6, 6, 7, 7, 7, 7, 7, 7, 7, 7, 7, 7, 7, 7, 7, 7, 7, 7, 7, 7, 7, 7, 7, 7, 7, 7, 7, 7, 7, 7, 7, 7, 7, 7, 7, 7, 7, 7, 7, 7, 7, 7, 7, 7, 7, 7, 7, 7, 7, 7, 7, 7, 8, 8, 8, 8, 8, 8, 8, 8, 8, 8, 8, 8, 8, 8, 8, 8, 8, 8, 8, 8, 8, 8, 8, 8, 8, 8, 8, 8, 8, 8, 8, 8, 8, 8, 8, 8, 8, 8, 8, 8, 8, 8, 8, 8, 8, 8, 8, 8, 8, 8, 9, 9, 9, 9, 9, 9, 9, 9, 9, 9, 9, 9, 9, 9, 9, 9, 9, 9, 9, 9, 9, 9, 9, 9, 9, 9, 9, 9, 9, 9, 9, 9, 9, 9, 9, 9, 9, 9, 9, 9, 9, 9, 9, 9, 9, 9, 9, 9, 9, 9, 10, 10, 10, 10, 10, 10, 10, 10, 10, 10, 10, 10, 10, 10, 10, 10, 10, 10, 10, 10, 10, 10, 10, 10, 10, 10, 10, 10, 10, 10, 10, 10, 10, 10, 10, 10, 10, 10, 10, 10, 10, 10, 10, 10, 10, 10, 10, 10, 10, 10, 11, 11, 11, 11, 11, 11, 11, 11, 11, 11, 11, 11, 11, 11, 11, 11, 11, 11, 11, 11, 11, 11, 11, 11, 11, 11, 11, 11, 11, 11, 11, 11, 11, 11, 11, 11, 11, 11, 11, 11, 11, 11, 11, 11, 11, 11, 11, 11, 11, 11, 12, 12, 12, 12, 12, 12, 12, 12, 12, 12, 12, 12, 12, 12, 12, 12, 12, 12, 12, 12, 12, 12, 12, 12, 12, 12, 12, 12, 12, 12, 12, 12, 12, 12, 12, 12, 12, 12, 12, 12, 12, 12, 12, 12, 12, 12, 12, 12, 12, 12, 13, 13, 13, 13, 13, 13, 13, 13, 13, 13, 13, 13, 13, 13, 13, 13, 13, 13, 13, 13, 13, 13, 13, 13, 13, 13, 13, 13, 13, 13, 13, 13, 13, 13, 13, 13, 13, 13, 13, 13, 13, 13, 13, 13, 13, 13, 13, 13, 13, 13, 14, 14, 14, 14, 14, 14, 14, 14, 14, 14, 14, 14, 14, 14, 14, 14, 14, 14, 14, 14, 14, 14, 14, 14, 14, 14, 14, 14, 14, 14, 14, 14, 14, 14, 14, 14, 14, 14, 14, 14, 14, 14, 14, 14, 14, 14, 14, 14, 14, 14, 15, 15, 15, 15, 15, 15, 15, 15, 15, 15, 15, 15, 15, 15, 15, 15, 15, 15, 15, 15, 15, 15, 15, 15, 15, 15, 15, 15, 15, 15, 15, 15, 15, 15, 15, 15, 15, 15, 15, 15, 15, 15, 15, 15, 15, 15, 15, 15, 15, 15, 16, 16, 16, 16, 16, 16, 16, 16, 16, 16, 16, 16, 16, 16, 16, 16, 16, 16, 16, 16, 16, 16, 16, 16, 16, 16, 16, 16, 16, 16, 16, 16, 16, 16, 16, 16, 16, 16, 16, 16, 16, 16, 16, 16, 16, 16, 16, 16, 16, 16, 17, 17, 17, 17, 17, 17, 17, 17, 17, 17, 17, 17, 17, 17, 17, 17, 17, 17, 17, 17, 17, 17, 17, 17, 17, 17, 17, 17, 17, 17, 17, 17, 17, 17, 17, 17, 17, 17, 17, 17, 17, 17, 17, 17, 17, 17, 17, 17, 17, 17, 18, 18, 18, 18, 18, 18, 18, 18, 18, 18, 18, 18, 18, 18, 18, 18, 18, 18, 18, 18, 18, 18, 18, 18, 18, 18, 18, 18, 18, 18, 18, 18, 18, 18, 18, 18, 18, 18, 18, 18, 18, 18, 18, 18, 18, 18, 18, 18, 18, 18, 19, 19, 19, 19, 19, 19, 19, 19, 19, 19, 19, 19, 19, 19, 19, 19, 19, 19, 19, 19, 19, 19, 19, 19, 19, 19, 19, 19, 19, 19, 19, 19, 19, 19, 19, 19, 19, 19, 19, 19, 19, 19, 19, 19, 19, 19, 19, 19, 19, 19, 20, 20, 20, 20, 20, 20, 20, 20, 20, 20, 20, 20, 20, 20, 20, 20, 20, 20, 20, 20, 20, 20, 20, 20, 20, 20, 20, 20, 20, 20, 20, 20, 20, 20, 20, 20, 20, 20, 20, 20, 20, 20, 20, 20, 20, 20, 20, 20, 20, 20, 21, 21, 21, 21, 21, 21, 21, 21, 21, 21, 21, 21, 21, 21, 21, 21, 21, 21, 21, 21, 21, 21, 21, 21, 21, 21, 21, 21, 21, 21, 21, 21, 21, 21, 21, 21, 21, 21, 21, 21, 21, 21, 21, 21, 21, 21, 21, 21, 21, 21, 22, 22, 22, 22, 22, 22, 22, 22, 22, 22, 22, 22, 22, 22, 22, 22, 22, 22, 22, 22, 22, 22, 22, 22, 22, 22, 22, 22, 22, 22, 22, 22, 22, 22, 22, 22, 22, 22, 22, 22, 22, 22, 22, 22, 22, 22, 22, 22, 22, 22, 23, 23, 23, 23, 23, 23, 23, 23, 23, 23, 23, 23, 23, 23, 23, 23, 23, 23, 23, 23, 23, 23, 23, 23, 23, 23, 23, 23, 23, 23, 23, 23, 23, 23, 23, 23, 23, 23, 23, 23, 23, 23, 23, 23, 23, 23, 23, 23, 23, 23, 24, 24, 24, 24, 24, 24, 24, 24, 24, 24, 24, 24, 24, 24, 24, 24, 24, 24, 24, 24, 24, 24, 24, 24, 24, 24, 24, 24, 24, 24, 24, 24, 24, 24, 24, 24, 24, 24, 24, 24, 24, 24, 24, 24, 24, 24, 24, 24, 24, 24, 25, 25, 25, 25, 25, 25, 25, 25, 25, 25, 25, 25, 25, 25, 25, 25, 25, 25, 25, 25, 25, 25, 25, 25, 25, 25, 25, 25, 25, 25, 25, 25, 25, 25, 25, 25, 25, 25, 25, 25, 25, 25, 25, 25, 25, 25, 25, 25, 25, 25, 26, 26, 26, 26, 26, 26, 26, 26, 26, 26, 26, 26, 26, 26, 26, 26, 26, 26, 26, 26, 26, 26, 26, 26, 26, 26, 26, 26, 26, 26, 26, 26, 26, 26, 26, 26, 26, 26, 26, 26, 26, 26, 26, 26, 26, 26, 26, 26, 26, 26, 27, 27, 27, 27, 27, 27, 27, 27, 27, 27, 27, 27, 27, 27, 27, 27, 27, 27, 27, 27, 27, 27, 27, 27, 27, 27, 27, 27, 27, 27, 27, 27, 27, 27, 27, 27, 27, 27, 27, 27, 27, 27, 27, 27, 27, 27, 27, 27, 27, 27, 28, 28, 28, 28, 28, 28, 28, 28, 28, 28, 28, 28, 28, 28, 28, 28, 28, 28, 28, 28, 28, 28, 28, 28, 28, 28, 28, 28, 28, 28, 28, 28, 28, 28, 28, 28, 28, 28, 28, 28, 28, 28, 28, 28, 28, 28, 28, 28, 28, 28]\n",
            "[0 0 0 0 0 0 0 0 0 0 0 0 0 0 0 0 0 0 0 0]\n"
          ],
          "name": "stdout"
        }
      ]
    },
    {
      "cell_type": "code",
      "metadata": {
        "colab": {
          "base_uri": "https://localhost:8080/"
        },
        "id": "AZL__mK6EZAy",
        "outputId": "a7496bb3-b459-45c1-b333-6f19e6f4e021"
      },
      "source": [
        "accuracy_score(y_classes, y_classesPredicted)"
      ],
      "execution_count": 66,
      "outputs": [
        {
          "output_type": "execute_result",
          "data": {
            "text/plain": [
              "0.7751724137931034"
            ]
          },
          "metadata": {
            "tags": []
          },
          "execution_count": 66
        }
      ]
    },
    {
      "cell_type": "code",
      "metadata": {
        "id": "VIrM_Weufabt"
      },
      "source": [
        "cm = confusion_matrix(y_classes, y_classesPredicted)"
      ],
      "execution_count": 67,
      "outputs": []
    },
    {
      "cell_type": "code",
      "metadata": {
        "id": "ekKEgT4WEZDs"
      },
      "source": [
        "df_cm = pd.DataFrame(cm, index = classLabels, columns = classLabels)"
      ],
      "execution_count": 68,
      "outputs": []
    },
    {
      "cell_type": "code",
      "metadata": {
        "colab": {
          "base_uri": "https://localhost:8080/",
          "height": 948
        },
        "id": "XxvnDLrtdnY7",
        "outputId": "d5bc1024-c58c-43b9-c2ae-ad96e91b26d2"
      },
      "source": [
        "df_cm"
      ],
      "execution_count": 69,
      "outputs": [
        {
          "output_type": "execute_result",
          "data": {
            "text/html": [
              "<div>\n",
              "<style scoped>\n",
              "    .dataframe tbody tr th:only-of-type {\n",
              "        vertical-align: middle;\n",
              "    }\n",
              "\n",
              "    .dataframe tbody tr th {\n",
              "        vertical-align: top;\n",
              "    }\n",
              "\n",
              "    .dataframe thead th {\n",
              "        text-align: right;\n",
              "    }\n",
              "</style>\n",
              "<table border=\"1\" class=\"dataframe\">\n",
              "  <thead>\n",
              "    <tr style=\"text-align: right;\">\n",
              "      <th></th>\n",
              "      <th>A</th>\n",
              "      <th>B</th>\n",
              "      <th>C</th>\n",
              "      <th>D</th>\n",
              "      <th>E</th>\n",
              "      <th>F</th>\n",
              "      <th>G</th>\n",
              "      <th>H</th>\n",
              "      <th>I</th>\n",
              "      <th>J</th>\n",
              "      <th>K</th>\n",
              "      <th>L</th>\n",
              "      <th>M</th>\n",
              "      <th>N</th>\n",
              "      <th>O</th>\n",
              "      <th>P</th>\n",
              "      <th>Q</th>\n",
              "      <th>R</th>\n",
              "      <th>S</th>\n",
              "      <th>T</th>\n",
              "      <th>U</th>\n",
              "      <th>V</th>\n",
              "      <th>W</th>\n",
              "      <th>X</th>\n",
              "      <th>Y</th>\n",
              "      <th>Z</th>\n",
              "      <th>del</th>\n",
              "      <th>nothing</th>\n",
              "      <th>space</th>\n",
              "    </tr>\n",
              "  </thead>\n",
              "  <tbody>\n",
              "    <tr>\n",
              "      <th>A</th>\n",
              "      <td>35</td>\n",
              "      <td>0</td>\n",
              "      <td>0</td>\n",
              "      <td>0</td>\n",
              "      <td>0</td>\n",
              "      <td>0</td>\n",
              "      <td>0</td>\n",
              "      <td>0</td>\n",
              "      <td>0</td>\n",
              "      <td>0</td>\n",
              "      <td>0</td>\n",
              "      <td>0</td>\n",
              "      <td>15</td>\n",
              "      <td>0</td>\n",
              "      <td>0</td>\n",
              "      <td>0</td>\n",
              "      <td>0</td>\n",
              "      <td>0</td>\n",
              "      <td>0</td>\n",
              "      <td>0</td>\n",
              "      <td>0</td>\n",
              "      <td>0</td>\n",
              "      <td>0</td>\n",
              "      <td>0</td>\n",
              "      <td>0</td>\n",
              "      <td>0</td>\n",
              "      <td>0</td>\n",
              "      <td>0</td>\n",
              "      <td>0</td>\n",
              "    </tr>\n",
              "    <tr>\n",
              "      <th>B</th>\n",
              "      <td>0</td>\n",
              "      <td>50</td>\n",
              "      <td>0</td>\n",
              "      <td>0</td>\n",
              "      <td>0</td>\n",
              "      <td>0</td>\n",
              "      <td>0</td>\n",
              "      <td>0</td>\n",
              "      <td>0</td>\n",
              "      <td>0</td>\n",
              "      <td>0</td>\n",
              "      <td>0</td>\n",
              "      <td>0</td>\n",
              "      <td>0</td>\n",
              "      <td>0</td>\n",
              "      <td>0</td>\n",
              "      <td>0</td>\n",
              "      <td>0</td>\n",
              "      <td>0</td>\n",
              "      <td>0</td>\n",
              "      <td>0</td>\n",
              "      <td>0</td>\n",
              "      <td>0</td>\n",
              "      <td>0</td>\n",
              "      <td>0</td>\n",
              "      <td>0</td>\n",
              "      <td>0</td>\n",
              "      <td>0</td>\n",
              "      <td>0</td>\n",
              "    </tr>\n",
              "    <tr>\n",
              "      <th>C</th>\n",
              "      <td>0</td>\n",
              "      <td>4</td>\n",
              "      <td>45</td>\n",
              "      <td>0</td>\n",
              "      <td>0</td>\n",
              "      <td>0</td>\n",
              "      <td>0</td>\n",
              "      <td>0</td>\n",
              "      <td>0</td>\n",
              "      <td>0</td>\n",
              "      <td>0</td>\n",
              "      <td>0</td>\n",
              "      <td>0</td>\n",
              "      <td>0</td>\n",
              "      <td>1</td>\n",
              "      <td>0</td>\n",
              "      <td>0</td>\n",
              "      <td>0</td>\n",
              "      <td>0</td>\n",
              "      <td>0</td>\n",
              "      <td>0</td>\n",
              "      <td>0</td>\n",
              "      <td>0</td>\n",
              "      <td>0</td>\n",
              "      <td>0</td>\n",
              "      <td>0</td>\n",
              "      <td>0</td>\n",
              "      <td>0</td>\n",
              "      <td>0</td>\n",
              "    </tr>\n",
              "    <tr>\n",
              "      <th>D</th>\n",
              "      <td>0</td>\n",
              "      <td>0</td>\n",
              "      <td>0</td>\n",
              "      <td>50</td>\n",
              "      <td>0</td>\n",
              "      <td>0</td>\n",
              "      <td>0</td>\n",
              "      <td>0</td>\n",
              "      <td>0</td>\n",
              "      <td>0</td>\n",
              "      <td>0</td>\n",
              "      <td>0</td>\n",
              "      <td>0</td>\n",
              "      <td>0</td>\n",
              "      <td>0</td>\n",
              "      <td>0</td>\n",
              "      <td>0</td>\n",
              "      <td>0</td>\n",
              "      <td>0</td>\n",
              "      <td>0</td>\n",
              "      <td>0</td>\n",
              "      <td>0</td>\n",
              "      <td>0</td>\n",
              "      <td>0</td>\n",
              "      <td>0</td>\n",
              "      <td>0</td>\n",
              "      <td>0</td>\n",
              "      <td>0</td>\n",
              "      <td>0</td>\n",
              "    </tr>\n",
              "    <tr>\n",
              "      <th>E</th>\n",
              "      <td>0</td>\n",
              "      <td>0</td>\n",
              "      <td>0</td>\n",
              "      <td>0</td>\n",
              "      <td>50</td>\n",
              "      <td>0</td>\n",
              "      <td>0</td>\n",
              "      <td>0</td>\n",
              "      <td>0</td>\n",
              "      <td>0</td>\n",
              "      <td>0</td>\n",
              "      <td>0</td>\n",
              "      <td>0</td>\n",
              "      <td>0</td>\n",
              "      <td>0</td>\n",
              "      <td>0</td>\n",
              "      <td>0</td>\n",
              "      <td>0</td>\n",
              "      <td>0</td>\n",
              "      <td>0</td>\n",
              "      <td>0</td>\n",
              "      <td>0</td>\n",
              "      <td>0</td>\n",
              "      <td>0</td>\n",
              "      <td>0</td>\n",
              "      <td>0</td>\n",
              "      <td>0</td>\n",
              "      <td>0</td>\n",
              "      <td>0</td>\n",
              "    </tr>\n",
              "    <tr>\n",
              "      <th>F</th>\n",
              "      <td>0</td>\n",
              "      <td>0</td>\n",
              "      <td>7</td>\n",
              "      <td>0</td>\n",
              "      <td>0</td>\n",
              "      <td>43</td>\n",
              "      <td>0</td>\n",
              "      <td>0</td>\n",
              "      <td>0</td>\n",
              "      <td>0</td>\n",
              "      <td>0</td>\n",
              "      <td>0</td>\n",
              "      <td>0</td>\n",
              "      <td>0</td>\n",
              "      <td>0</td>\n",
              "      <td>0</td>\n",
              "      <td>0</td>\n",
              "      <td>0</td>\n",
              "      <td>0</td>\n",
              "      <td>0</td>\n",
              "      <td>0</td>\n",
              "      <td>0</td>\n",
              "      <td>0</td>\n",
              "      <td>0</td>\n",
              "      <td>0</td>\n",
              "      <td>0</td>\n",
              "      <td>0</td>\n",
              "      <td>0</td>\n",
              "      <td>0</td>\n",
              "    </tr>\n",
              "    <tr>\n",
              "      <th>G</th>\n",
              "      <td>0</td>\n",
              "      <td>0</td>\n",
              "      <td>0</td>\n",
              "      <td>0</td>\n",
              "      <td>0</td>\n",
              "      <td>0</td>\n",
              "      <td>28</td>\n",
              "      <td>22</td>\n",
              "      <td>0</td>\n",
              "      <td>0</td>\n",
              "      <td>0</td>\n",
              "      <td>0</td>\n",
              "      <td>0</td>\n",
              "      <td>0</td>\n",
              "      <td>0</td>\n",
              "      <td>0</td>\n",
              "      <td>0</td>\n",
              "      <td>0</td>\n",
              "      <td>0</td>\n",
              "      <td>0</td>\n",
              "      <td>0</td>\n",
              "      <td>0</td>\n",
              "      <td>0</td>\n",
              "      <td>0</td>\n",
              "      <td>0</td>\n",
              "      <td>0</td>\n",
              "      <td>0</td>\n",
              "      <td>0</td>\n",
              "      <td>0</td>\n",
              "    </tr>\n",
              "    <tr>\n",
              "      <th>H</th>\n",
              "      <td>0</td>\n",
              "      <td>0</td>\n",
              "      <td>0</td>\n",
              "      <td>0</td>\n",
              "      <td>0</td>\n",
              "      <td>0</td>\n",
              "      <td>0</td>\n",
              "      <td>50</td>\n",
              "      <td>0</td>\n",
              "      <td>0</td>\n",
              "      <td>0</td>\n",
              "      <td>0</td>\n",
              "      <td>0</td>\n",
              "      <td>0</td>\n",
              "      <td>0</td>\n",
              "      <td>0</td>\n",
              "      <td>0</td>\n",
              "      <td>0</td>\n",
              "      <td>0</td>\n",
              "      <td>0</td>\n",
              "      <td>0</td>\n",
              "      <td>0</td>\n",
              "      <td>0</td>\n",
              "      <td>0</td>\n",
              "      <td>0</td>\n",
              "      <td>0</td>\n",
              "      <td>0</td>\n",
              "      <td>0</td>\n",
              "      <td>0</td>\n",
              "    </tr>\n",
              "    <tr>\n",
              "      <th>I</th>\n",
              "      <td>0</td>\n",
              "      <td>2</td>\n",
              "      <td>0</td>\n",
              "      <td>0</td>\n",
              "      <td>0</td>\n",
              "      <td>0</td>\n",
              "      <td>0</td>\n",
              "      <td>0</td>\n",
              "      <td>48</td>\n",
              "      <td>0</td>\n",
              "      <td>0</td>\n",
              "      <td>0</td>\n",
              "      <td>0</td>\n",
              "      <td>0</td>\n",
              "      <td>0</td>\n",
              "      <td>0</td>\n",
              "      <td>0</td>\n",
              "      <td>0</td>\n",
              "      <td>0</td>\n",
              "      <td>0</td>\n",
              "      <td>0</td>\n",
              "      <td>0</td>\n",
              "      <td>0</td>\n",
              "      <td>0</td>\n",
              "      <td>0</td>\n",
              "      <td>0</td>\n",
              "      <td>0</td>\n",
              "      <td>0</td>\n",
              "      <td>0</td>\n",
              "    </tr>\n",
              "    <tr>\n",
              "      <th>J</th>\n",
              "      <td>0</td>\n",
              "      <td>0</td>\n",
              "      <td>0</td>\n",
              "      <td>0</td>\n",
              "      <td>0</td>\n",
              "      <td>0</td>\n",
              "      <td>0</td>\n",
              "      <td>0</td>\n",
              "      <td>0</td>\n",
              "      <td>50</td>\n",
              "      <td>0</td>\n",
              "      <td>0</td>\n",
              "      <td>0</td>\n",
              "      <td>0</td>\n",
              "      <td>0</td>\n",
              "      <td>0</td>\n",
              "      <td>0</td>\n",
              "      <td>0</td>\n",
              "      <td>0</td>\n",
              "      <td>0</td>\n",
              "      <td>0</td>\n",
              "      <td>0</td>\n",
              "      <td>0</td>\n",
              "      <td>0</td>\n",
              "      <td>0</td>\n",
              "      <td>0</td>\n",
              "      <td>0</td>\n",
              "      <td>0</td>\n",
              "      <td>0</td>\n",
              "    </tr>\n",
              "    <tr>\n",
              "      <th>K</th>\n",
              "      <td>0</td>\n",
              "      <td>0</td>\n",
              "      <td>0</td>\n",
              "      <td>0</td>\n",
              "      <td>0</td>\n",
              "      <td>0</td>\n",
              "      <td>0</td>\n",
              "      <td>0</td>\n",
              "      <td>13</td>\n",
              "      <td>0</td>\n",
              "      <td>37</td>\n",
              "      <td>0</td>\n",
              "      <td>0</td>\n",
              "      <td>0</td>\n",
              "      <td>0</td>\n",
              "      <td>0</td>\n",
              "      <td>0</td>\n",
              "      <td>0</td>\n",
              "      <td>0</td>\n",
              "      <td>0</td>\n",
              "      <td>0</td>\n",
              "      <td>0</td>\n",
              "      <td>0</td>\n",
              "      <td>0</td>\n",
              "      <td>0</td>\n",
              "      <td>0</td>\n",
              "      <td>0</td>\n",
              "      <td>0</td>\n",
              "      <td>0</td>\n",
              "    </tr>\n",
              "    <tr>\n",
              "      <th>L</th>\n",
              "      <td>0</td>\n",
              "      <td>0</td>\n",
              "      <td>8</td>\n",
              "      <td>0</td>\n",
              "      <td>0</td>\n",
              "      <td>0</td>\n",
              "      <td>0</td>\n",
              "      <td>0</td>\n",
              "      <td>0</td>\n",
              "      <td>0</td>\n",
              "      <td>0</td>\n",
              "      <td>24</td>\n",
              "      <td>0</td>\n",
              "      <td>0</td>\n",
              "      <td>0</td>\n",
              "      <td>0</td>\n",
              "      <td>0</td>\n",
              "      <td>0</td>\n",
              "      <td>0</td>\n",
              "      <td>0</td>\n",
              "      <td>0</td>\n",
              "      <td>0</td>\n",
              "      <td>0</td>\n",
              "      <td>0</td>\n",
              "      <td>14</td>\n",
              "      <td>0</td>\n",
              "      <td>4</td>\n",
              "      <td>0</td>\n",
              "      <td>0</td>\n",
              "    </tr>\n",
              "    <tr>\n",
              "      <th>M</th>\n",
              "      <td>0</td>\n",
              "      <td>0</td>\n",
              "      <td>0</td>\n",
              "      <td>0</td>\n",
              "      <td>0</td>\n",
              "      <td>0</td>\n",
              "      <td>0</td>\n",
              "      <td>0</td>\n",
              "      <td>0</td>\n",
              "      <td>0</td>\n",
              "      <td>0</td>\n",
              "      <td>0</td>\n",
              "      <td>42</td>\n",
              "      <td>8</td>\n",
              "      <td>0</td>\n",
              "      <td>0</td>\n",
              "      <td>0</td>\n",
              "      <td>0</td>\n",
              "      <td>0</td>\n",
              "      <td>0</td>\n",
              "      <td>0</td>\n",
              "      <td>0</td>\n",
              "      <td>0</td>\n",
              "      <td>0</td>\n",
              "      <td>0</td>\n",
              "      <td>0</td>\n",
              "      <td>0</td>\n",
              "      <td>0</td>\n",
              "      <td>0</td>\n",
              "    </tr>\n",
              "    <tr>\n",
              "      <th>N</th>\n",
              "      <td>0</td>\n",
              "      <td>0</td>\n",
              "      <td>0</td>\n",
              "      <td>0</td>\n",
              "      <td>0</td>\n",
              "      <td>0</td>\n",
              "      <td>0</td>\n",
              "      <td>0</td>\n",
              "      <td>0</td>\n",
              "      <td>0</td>\n",
              "      <td>0</td>\n",
              "      <td>0</td>\n",
              "      <td>20</td>\n",
              "      <td>27</td>\n",
              "      <td>2</td>\n",
              "      <td>0</td>\n",
              "      <td>0</td>\n",
              "      <td>0</td>\n",
              "      <td>0</td>\n",
              "      <td>0</td>\n",
              "      <td>0</td>\n",
              "      <td>0</td>\n",
              "      <td>0</td>\n",
              "      <td>0</td>\n",
              "      <td>0</td>\n",
              "      <td>0</td>\n",
              "      <td>1</td>\n",
              "      <td>0</td>\n",
              "      <td>0</td>\n",
              "    </tr>\n",
              "    <tr>\n",
              "      <th>O</th>\n",
              "      <td>0</td>\n",
              "      <td>0</td>\n",
              "      <td>0</td>\n",
              "      <td>0</td>\n",
              "      <td>0</td>\n",
              "      <td>0</td>\n",
              "      <td>0</td>\n",
              "      <td>0</td>\n",
              "      <td>0</td>\n",
              "      <td>0</td>\n",
              "      <td>0</td>\n",
              "      <td>0</td>\n",
              "      <td>0</td>\n",
              "      <td>3</td>\n",
              "      <td>41</td>\n",
              "      <td>0</td>\n",
              "      <td>0</td>\n",
              "      <td>1</td>\n",
              "      <td>0</td>\n",
              "      <td>0</td>\n",
              "      <td>0</td>\n",
              "      <td>0</td>\n",
              "      <td>0</td>\n",
              "      <td>0</td>\n",
              "      <td>0</td>\n",
              "      <td>0</td>\n",
              "      <td>5</td>\n",
              "      <td>0</td>\n",
              "      <td>0</td>\n",
              "    </tr>\n",
              "    <tr>\n",
              "      <th>P</th>\n",
              "      <td>0</td>\n",
              "      <td>0</td>\n",
              "      <td>0</td>\n",
              "      <td>0</td>\n",
              "      <td>0</td>\n",
              "      <td>0</td>\n",
              "      <td>0</td>\n",
              "      <td>0</td>\n",
              "      <td>0</td>\n",
              "      <td>0</td>\n",
              "      <td>0</td>\n",
              "      <td>0</td>\n",
              "      <td>0</td>\n",
              "      <td>0</td>\n",
              "      <td>0</td>\n",
              "      <td>14</td>\n",
              "      <td>26</td>\n",
              "      <td>0</td>\n",
              "      <td>3</td>\n",
              "      <td>2</td>\n",
              "      <td>0</td>\n",
              "      <td>0</td>\n",
              "      <td>0</td>\n",
              "      <td>0</td>\n",
              "      <td>0</td>\n",
              "      <td>0</td>\n",
              "      <td>5</td>\n",
              "      <td>0</td>\n",
              "      <td>0</td>\n",
              "    </tr>\n",
              "    <tr>\n",
              "      <th>Q</th>\n",
              "      <td>0</td>\n",
              "      <td>0</td>\n",
              "      <td>0</td>\n",
              "      <td>0</td>\n",
              "      <td>0</td>\n",
              "      <td>0</td>\n",
              "      <td>0</td>\n",
              "      <td>0</td>\n",
              "      <td>0</td>\n",
              "      <td>0</td>\n",
              "      <td>0</td>\n",
              "      <td>0</td>\n",
              "      <td>0</td>\n",
              "      <td>0</td>\n",
              "      <td>0</td>\n",
              "      <td>0</td>\n",
              "      <td>50</td>\n",
              "      <td>0</td>\n",
              "      <td>0</td>\n",
              "      <td>0</td>\n",
              "      <td>0</td>\n",
              "      <td>0</td>\n",
              "      <td>0</td>\n",
              "      <td>0</td>\n",
              "      <td>0</td>\n",
              "      <td>0</td>\n",
              "      <td>0</td>\n",
              "      <td>0</td>\n",
              "      <td>0</td>\n",
              "    </tr>\n",
              "    <tr>\n",
              "      <th>R</th>\n",
              "      <td>0</td>\n",
              "      <td>0</td>\n",
              "      <td>0</td>\n",
              "      <td>0</td>\n",
              "      <td>0</td>\n",
              "      <td>0</td>\n",
              "      <td>0</td>\n",
              "      <td>0</td>\n",
              "      <td>0</td>\n",
              "      <td>0</td>\n",
              "      <td>0</td>\n",
              "      <td>0</td>\n",
              "      <td>0</td>\n",
              "      <td>0</td>\n",
              "      <td>0</td>\n",
              "      <td>0</td>\n",
              "      <td>0</td>\n",
              "      <td>36</td>\n",
              "      <td>14</td>\n",
              "      <td>0</td>\n",
              "      <td>0</td>\n",
              "      <td>0</td>\n",
              "      <td>0</td>\n",
              "      <td>0</td>\n",
              "      <td>0</td>\n",
              "      <td>0</td>\n",
              "      <td>0</td>\n",
              "      <td>0</td>\n",
              "      <td>0</td>\n",
              "    </tr>\n",
              "    <tr>\n",
              "      <th>S</th>\n",
              "      <td>0</td>\n",
              "      <td>0</td>\n",
              "      <td>0</td>\n",
              "      <td>0</td>\n",
              "      <td>0</td>\n",
              "      <td>0</td>\n",
              "      <td>0</td>\n",
              "      <td>0</td>\n",
              "      <td>0</td>\n",
              "      <td>0</td>\n",
              "      <td>0</td>\n",
              "      <td>0</td>\n",
              "      <td>0</td>\n",
              "      <td>0</td>\n",
              "      <td>6</td>\n",
              "      <td>0</td>\n",
              "      <td>0</td>\n",
              "      <td>0</td>\n",
              "      <td>42</td>\n",
              "      <td>0</td>\n",
              "      <td>2</td>\n",
              "      <td>0</td>\n",
              "      <td>0</td>\n",
              "      <td>0</td>\n",
              "      <td>0</td>\n",
              "      <td>0</td>\n",
              "      <td>0</td>\n",
              "      <td>0</td>\n",
              "      <td>0</td>\n",
              "    </tr>\n",
              "    <tr>\n",
              "      <th>T</th>\n",
              "      <td>0</td>\n",
              "      <td>0</td>\n",
              "      <td>0</td>\n",
              "      <td>0</td>\n",
              "      <td>0</td>\n",
              "      <td>0</td>\n",
              "      <td>0</td>\n",
              "      <td>0</td>\n",
              "      <td>0</td>\n",
              "      <td>0</td>\n",
              "      <td>0</td>\n",
              "      <td>0</td>\n",
              "      <td>0</td>\n",
              "      <td>0</td>\n",
              "      <td>0</td>\n",
              "      <td>0</td>\n",
              "      <td>0</td>\n",
              "      <td>0</td>\n",
              "      <td>19</td>\n",
              "      <td>31</td>\n",
              "      <td>0</td>\n",
              "      <td>0</td>\n",
              "      <td>0</td>\n",
              "      <td>0</td>\n",
              "      <td>0</td>\n",
              "      <td>0</td>\n",
              "      <td>0</td>\n",
              "      <td>0</td>\n",
              "      <td>0</td>\n",
              "    </tr>\n",
              "    <tr>\n",
              "      <th>U</th>\n",
              "      <td>0</td>\n",
              "      <td>0</td>\n",
              "      <td>0</td>\n",
              "      <td>0</td>\n",
              "      <td>0</td>\n",
              "      <td>0</td>\n",
              "      <td>0</td>\n",
              "      <td>0</td>\n",
              "      <td>0</td>\n",
              "      <td>0</td>\n",
              "      <td>0</td>\n",
              "      <td>0</td>\n",
              "      <td>0</td>\n",
              "      <td>0</td>\n",
              "      <td>0</td>\n",
              "      <td>0</td>\n",
              "      <td>0</td>\n",
              "      <td>0</td>\n",
              "      <td>26</td>\n",
              "      <td>0</td>\n",
              "      <td>23</td>\n",
              "      <td>1</td>\n",
              "      <td>0</td>\n",
              "      <td>0</td>\n",
              "      <td>0</td>\n",
              "      <td>0</td>\n",
              "      <td>0</td>\n",
              "      <td>0</td>\n",
              "      <td>0</td>\n",
              "    </tr>\n",
              "    <tr>\n",
              "      <th>V</th>\n",
              "      <td>0</td>\n",
              "      <td>0</td>\n",
              "      <td>0</td>\n",
              "      <td>0</td>\n",
              "      <td>0</td>\n",
              "      <td>0</td>\n",
              "      <td>0</td>\n",
              "      <td>0</td>\n",
              "      <td>0</td>\n",
              "      <td>0</td>\n",
              "      <td>0</td>\n",
              "      <td>0</td>\n",
              "      <td>0</td>\n",
              "      <td>0</td>\n",
              "      <td>0</td>\n",
              "      <td>0</td>\n",
              "      <td>0</td>\n",
              "      <td>5</td>\n",
              "      <td>4</td>\n",
              "      <td>0</td>\n",
              "      <td>0</td>\n",
              "      <td>41</td>\n",
              "      <td>0</td>\n",
              "      <td>0</td>\n",
              "      <td>0</td>\n",
              "      <td>0</td>\n",
              "      <td>0</td>\n",
              "      <td>0</td>\n",
              "      <td>0</td>\n",
              "    </tr>\n",
              "    <tr>\n",
              "      <th>W</th>\n",
              "      <td>0</td>\n",
              "      <td>0</td>\n",
              "      <td>0</td>\n",
              "      <td>0</td>\n",
              "      <td>0</td>\n",
              "      <td>0</td>\n",
              "      <td>0</td>\n",
              "      <td>0</td>\n",
              "      <td>0</td>\n",
              "      <td>0</td>\n",
              "      <td>0</td>\n",
              "      <td>0</td>\n",
              "      <td>0</td>\n",
              "      <td>0</td>\n",
              "      <td>0</td>\n",
              "      <td>0</td>\n",
              "      <td>0</td>\n",
              "      <td>0</td>\n",
              "      <td>0</td>\n",
              "      <td>0</td>\n",
              "      <td>0</td>\n",
              "      <td>0</td>\n",
              "      <td>50</td>\n",
              "      <td>0</td>\n",
              "      <td>0</td>\n",
              "      <td>0</td>\n",
              "      <td>0</td>\n",
              "      <td>0</td>\n",
              "      <td>0</td>\n",
              "    </tr>\n",
              "    <tr>\n",
              "      <th>X</th>\n",
              "      <td>0</td>\n",
              "      <td>0</td>\n",
              "      <td>0</td>\n",
              "      <td>0</td>\n",
              "      <td>0</td>\n",
              "      <td>0</td>\n",
              "      <td>0</td>\n",
              "      <td>0</td>\n",
              "      <td>0</td>\n",
              "      <td>0</td>\n",
              "      <td>0</td>\n",
              "      <td>0</td>\n",
              "      <td>0</td>\n",
              "      <td>0</td>\n",
              "      <td>18</td>\n",
              "      <td>0</td>\n",
              "      <td>0</td>\n",
              "      <td>1</td>\n",
              "      <td>0</td>\n",
              "      <td>0</td>\n",
              "      <td>0</td>\n",
              "      <td>3</td>\n",
              "      <td>0</td>\n",
              "      <td>15</td>\n",
              "      <td>4</td>\n",
              "      <td>8</td>\n",
              "      <td>1</td>\n",
              "      <td>0</td>\n",
              "      <td>0</td>\n",
              "    </tr>\n",
              "    <tr>\n",
              "      <th>Y</th>\n",
              "      <td>0</td>\n",
              "      <td>0</td>\n",
              "      <td>0</td>\n",
              "      <td>0</td>\n",
              "      <td>0</td>\n",
              "      <td>0</td>\n",
              "      <td>0</td>\n",
              "      <td>0</td>\n",
              "      <td>0</td>\n",
              "      <td>0</td>\n",
              "      <td>0</td>\n",
              "      <td>0</td>\n",
              "      <td>3</td>\n",
              "      <td>0</td>\n",
              "      <td>0</td>\n",
              "      <td>0</td>\n",
              "      <td>0</td>\n",
              "      <td>0</td>\n",
              "      <td>0</td>\n",
              "      <td>0</td>\n",
              "      <td>0</td>\n",
              "      <td>0</td>\n",
              "      <td>0</td>\n",
              "      <td>0</td>\n",
              "      <td>47</td>\n",
              "      <td>0</td>\n",
              "      <td>0</td>\n",
              "      <td>0</td>\n",
              "      <td>0</td>\n",
              "    </tr>\n",
              "    <tr>\n",
              "      <th>Z</th>\n",
              "      <td>0</td>\n",
              "      <td>0</td>\n",
              "      <td>0</td>\n",
              "      <td>0</td>\n",
              "      <td>0</td>\n",
              "      <td>0</td>\n",
              "      <td>0</td>\n",
              "      <td>0</td>\n",
              "      <td>0</td>\n",
              "      <td>0</td>\n",
              "      <td>0</td>\n",
              "      <td>0</td>\n",
              "      <td>0</td>\n",
              "      <td>0</td>\n",
              "      <td>0</td>\n",
              "      <td>0</td>\n",
              "      <td>0</td>\n",
              "      <td>0</td>\n",
              "      <td>0</td>\n",
              "      <td>9</td>\n",
              "      <td>0</td>\n",
              "      <td>0</td>\n",
              "      <td>0</td>\n",
              "      <td>5</td>\n",
              "      <td>0</td>\n",
              "      <td>35</td>\n",
              "      <td>0</td>\n",
              "      <td>0</td>\n",
              "      <td>1</td>\n",
              "    </tr>\n",
              "    <tr>\n",
              "      <th>del</th>\n",
              "      <td>0</td>\n",
              "      <td>0</td>\n",
              "      <td>0</td>\n",
              "      <td>0</td>\n",
              "      <td>0</td>\n",
              "      <td>0</td>\n",
              "      <td>0</td>\n",
              "      <td>0</td>\n",
              "      <td>0</td>\n",
              "      <td>0</td>\n",
              "      <td>0</td>\n",
              "      <td>0</td>\n",
              "      <td>0</td>\n",
              "      <td>0</td>\n",
              "      <td>0</td>\n",
              "      <td>0</td>\n",
              "      <td>0</td>\n",
              "      <td>0</td>\n",
              "      <td>0</td>\n",
              "      <td>0</td>\n",
              "      <td>0</td>\n",
              "      <td>0</td>\n",
              "      <td>0</td>\n",
              "      <td>0</td>\n",
              "      <td>0</td>\n",
              "      <td>0</td>\n",
              "      <td>50</td>\n",
              "      <td>0</td>\n",
              "      <td>0</td>\n",
              "    </tr>\n",
              "    <tr>\n",
              "      <th>nothing</th>\n",
              "      <td>0</td>\n",
              "      <td>0</td>\n",
              "      <td>0</td>\n",
              "      <td>0</td>\n",
              "      <td>0</td>\n",
              "      <td>0</td>\n",
              "      <td>0</td>\n",
              "      <td>0</td>\n",
              "      <td>0</td>\n",
              "      <td>0</td>\n",
              "      <td>0</td>\n",
              "      <td>0</td>\n",
              "      <td>0</td>\n",
              "      <td>0</td>\n",
              "      <td>0</td>\n",
              "      <td>0</td>\n",
              "      <td>0</td>\n",
              "      <td>0</td>\n",
              "      <td>0</td>\n",
              "      <td>0</td>\n",
              "      <td>0</td>\n",
              "      <td>0</td>\n",
              "      <td>0</td>\n",
              "      <td>0</td>\n",
              "      <td>0</td>\n",
              "      <td>0</td>\n",
              "      <td>0</td>\n",
              "      <td>50</td>\n",
              "      <td>0</td>\n",
              "    </tr>\n",
              "    <tr>\n",
              "      <th>space</th>\n",
              "      <td>0</td>\n",
              "      <td>0</td>\n",
              "      <td>0</td>\n",
              "      <td>0</td>\n",
              "      <td>0</td>\n",
              "      <td>0</td>\n",
              "      <td>0</td>\n",
              "      <td>0</td>\n",
              "      <td>0</td>\n",
              "      <td>0</td>\n",
              "      <td>0</td>\n",
              "      <td>30</td>\n",
              "      <td>0</td>\n",
              "      <td>0</td>\n",
              "      <td>0</td>\n",
              "      <td>0</td>\n",
              "      <td>0</td>\n",
              "      <td>0</td>\n",
              "      <td>0</td>\n",
              "      <td>0</td>\n",
              "      <td>0</td>\n",
              "      <td>0</td>\n",
              "      <td>0</td>\n",
              "      <td>0</td>\n",
              "      <td>0</td>\n",
              "      <td>0</td>\n",
              "      <td>0</td>\n",
              "      <td>0</td>\n",
              "      <td>20</td>\n",
              "    </tr>\n",
              "  </tbody>\n",
              "</table>\n",
              "</div>"
            ],
            "text/plain": [
              "          A   B   C   D   E   F   G  ...   W   X   Y   Z  del  nothing  space\n",
              "A        35   0   0   0   0   0   0  ...   0   0   0   0    0        0      0\n",
              "B         0  50   0   0   0   0   0  ...   0   0   0   0    0        0      0\n",
              "C         0   4  45   0   0   0   0  ...   0   0   0   0    0        0      0\n",
              "D         0   0   0  50   0   0   0  ...   0   0   0   0    0        0      0\n",
              "E         0   0   0   0  50   0   0  ...   0   0   0   0    0        0      0\n",
              "F         0   0   7   0   0  43   0  ...   0   0   0   0    0        0      0\n",
              "G         0   0   0   0   0   0  28  ...   0   0   0   0    0        0      0\n",
              "H         0   0   0   0   0   0   0  ...   0   0   0   0    0        0      0\n",
              "I         0   2   0   0   0   0   0  ...   0   0   0   0    0        0      0\n",
              "J         0   0   0   0   0   0   0  ...   0   0   0   0    0        0      0\n",
              "K         0   0   0   0   0   0   0  ...   0   0   0   0    0        0      0\n",
              "L         0   0   8   0   0   0   0  ...   0   0  14   0    4        0      0\n",
              "M         0   0   0   0   0   0   0  ...   0   0   0   0    0        0      0\n",
              "N         0   0   0   0   0   0   0  ...   0   0   0   0    1        0      0\n",
              "O         0   0   0   0   0   0   0  ...   0   0   0   0    5        0      0\n",
              "P         0   0   0   0   0   0   0  ...   0   0   0   0    5        0      0\n",
              "Q         0   0   0   0   0   0   0  ...   0   0   0   0    0        0      0\n",
              "R         0   0   0   0   0   0   0  ...   0   0   0   0    0        0      0\n",
              "S         0   0   0   0   0   0   0  ...   0   0   0   0    0        0      0\n",
              "T         0   0   0   0   0   0   0  ...   0   0   0   0    0        0      0\n",
              "U         0   0   0   0   0   0   0  ...   0   0   0   0    0        0      0\n",
              "V         0   0   0   0   0   0   0  ...   0   0   0   0    0        0      0\n",
              "W         0   0   0   0   0   0   0  ...  50   0   0   0    0        0      0\n",
              "X         0   0   0   0   0   0   0  ...   0  15   4   8    1        0      0\n",
              "Y         0   0   0   0   0   0   0  ...   0   0  47   0    0        0      0\n",
              "Z         0   0   0   0   0   0   0  ...   0   5   0  35    0        0      1\n",
              "del       0   0   0   0   0   0   0  ...   0   0   0   0   50        0      0\n",
              "nothing   0   0   0   0   0   0   0  ...   0   0   0   0    0       50      0\n",
              "space     0   0   0   0   0   0   0  ...   0   0   0   0    0        0     20\n",
              "\n",
              "[29 rows x 29 columns]"
            ]
          },
          "metadata": {
            "tags": []
          },
          "execution_count": 69
        }
      ]
    },
    {
      "cell_type": "code",
      "metadata": {
        "colab": {
          "base_uri": "https://localhost:8080/",
          "height": 478
        },
        "id": "ZpMdhj2qdncD",
        "outputId": "4ce43c82-529a-4a73-eead-b904ec5526ea"
      },
      "source": [
        "plt.figure(figsize = (10,7))\n",
        "sn.heatmap(df_cm, annot=True)"
      ],
      "execution_count": 70,
      "outputs": [
        {
          "output_type": "execute_result",
          "data": {
            "text/plain": [
              "<matplotlib.axes._subplots.AxesSubplot at 0x7fa78629b390>"
            ]
          },
          "metadata": {
            "tags": []
          },
          "execution_count": 70
        },
        {
          "output_type": "display_data",
          "data": {
            "image/png": "[encoded data removed]",
            "text/plain": [
              "<Figure size 720x504 with 2 Axes>"
            ]
          },
          "metadata": {
            "tags": [],
            "needs_background": "light"
          }
        }
      ]
    },
    {
      "cell_type": "code",
      "metadata": {
        "colab": {
          "base_uri": "https://localhost:8080/"
        },
        "id": "ERSrX_gLdneg",
        "outputId": "a2ad2798-e5b4-431b-80e1-a19084297d55"
      },
      "source": [
        "# F1 Score\n",
        "\n",
        "f1_score(y_classes, y_classesPredicted, average='macro')"
      ],
      "execution_count": 71,
      "outputs": [
        {
          "output_type": "execute_result",
          "data": {
            "text/plain": [
              "0.7686426664380795"
            ]
          },
          "metadata": {
            "tags": []
          },
          "execution_count": 71
        }
      ]
    },
    {
      "cell_type": "code",
      "metadata": {
        "id": "-arNC6A1hudF",
        "colab": {
          "base_uri": "https://localhost:8080/"
        },
        "outputId": "2e74147d-d7ce-4c0d-fbcb-ab9eaf0fe889"
      },
      "source": [
        "precision_score(y_classes, y_classesPredicted, average='macro')"
      ],
      "execution_count": 72,
      "outputs": [
        {
          "output_type": "execute_result",
          "data": {
            "text/plain": [
              "0.8226650058129789"
            ]
          },
          "metadata": {
            "tags": []
          },
          "execution_count": 72
        }
      ]
    },
    {
      "cell_type": "code",
      "metadata": {
        "id": "zPxTasvbhuqg",
        "colab": {
          "base_uri": "https://localhost:8080/"
        },
        "outputId": "0e2c3444-4c24-4b49-97aa-92f2ea600855"
      },
      "source": [
        "recall_score(y_classes, y_classesPredicted, average='macro')"
      ],
      "execution_count": 73,
      "outputs": [
        {
          "output_type": "execute_result",
          "data": {
            "text/plain": [
              "0.7751724137931034"
            ]
          },
          "metadata": {
            "tags": []
          },
          "execution_count": 73
        }
      ]
    },
    {
      "cell_type": "code",
      "metadata": {
        "id": "z-Xd7XaYeFGR"
      },
      "source": [
        ""
      ],
      "execution_count": 73,
      "outputs": []
    },
    {
      "cell_type": "code",
      "metadata": {
        "id": "O9I3AbPHeFMF"
      },
      "source": [
        "y_test_Encoding = to_categorical(y_classes, num_classes=nos_of_Classes)"
      ],
      "execution_count": 74,
      "outputs": []
    },
    {
      "cell_type": "code",
      "metadata": {
        "id": "lQmmT0V-dng6"
      },
      "source": [
        "# Compute ROC curve and ROC area for each class\n",
        "fpr = dict()\n",
        "tpr = dict()\n",
        "roc_auc = dict()\n",
        "for i in range(nos_of_Classes):\n",
        "    fpr[i], tpr[i], _ = roc_curve(y_test_Encoding[:, i], predictTestLabelsProb[:, i])\n",
        "    roc_auc[i] = auc(fpr[i], tpr[i])\n",
        "\n",
        "# Compute micro-average ROC curve and ROC area\n",
        "fpr[\"micro\"], tpr[\"micro\"], _ = roc_curve(y_test_Encoding.ravel(), predictTestLabelsProb.ravel())\n",
        "roc_auc[\"micro\"] = auc(fpr[\"micro\"], tpr[\"micro\"])"
      ],
      "execution_count": 75,
      "outputs": []
    },
    {
      "cell_type": "code",
      "metadata": {
        "colab": {
          "base_uri": "https://localhost:8080/",
          "height": 295
        },
        "id": "Gz45mDl2dnkL",
        "outputId": "c5bec50a-1626-480e-8dea-c1d6fa694688"
      },
      "source": [
        "plt.figure()\n",
        "lw = 2\n",
        "plt.plot(fpr[2], tpr[2], color='darkorange',\n",
        "         lw=lw, label='ROC curve (area = %0.2f)' % roc_auc[2])\n",
        "plt.plot([0, 1], [0, 1], color='navy', lw=lw, linestyle='--')\n",
        "plt.xlim([0.0, 1.0])\n",
        "plt.ylim([0.0, 1.05])\n",
        "plt.xlabel('False Positive Rate')\n",
        "plt.ylabel('True Positive Rate')\n",
        "plt.title('Receiver operating characteristic example')\n",
        "plt.legend(loc=\"lower right\")\n",
        "plt.show()"
      ],
      "execution_count": 76,
      "outputs": [
        {
          "output_type": "display_data",
          "data": {
            "image/png": "[encoded data removed]",
            "text/plain": [
              "<Figure size 432x288 with 1 Axes>"
            ]
          },
          "metadata": {
            "tags": [],
            "needs_background": "light"
          }
        }
      ]
    },
    {
      "cell_type": "code",
      "metadata": {
        "id": "fmoCiRlPdnnA"
      },
      "source": [
        ""
      ],
      "execution_count": null,
      "outputs": []
    },
    {
      "cell_type": "code",
      "metadata": {
        "colab": {
          "base_uri": "https://localhost:8080/"
        },
        "id": "Ua5JVLZCdnpW",
        "outputId": "a81f1252-a3b8-4b72-939f-fbf4934ad73c"
      },
      "source": [
        "del testImages\n",
        "gc.collect()"
      ],
      "execution_count": null,
      "outputs": [
        {
          "output_type": "execute_result",
          "data": {
            "text/plain": [
              "2494"
            ]
          },
          "metadata": {
            "tags": []
          },
          "execution_count": 100
        }
      ]
    },
    {
      "cell_type": "code",
      "metadata": {
        "id": "QL5XZMOUdnsl"
      },
      "source": [
        ""
      ],
      "execution_count": null,
      "outputs": []
    },
    {
      "cell_type": "code",
      "metadata": {
        "id": "9oi2JU3nD9rl"
      },
      "source": [
        ""
      ],
      "execution_count": null,
      "outputs": []
    },
    {
      "cell_type": "code",
      "metadata": {
        "id": "jehWzI_Bvavr"
      },
      "source": [
        ""
      ],
      "execution_count": null,
      "outputs": []
    }
  ]
}